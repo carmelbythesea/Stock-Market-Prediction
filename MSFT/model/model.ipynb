{
 "cells": [
  {
   "cell_type": "code",
   "execution_count": 1,
   "metadata": {},
   "outputs": [],
   "source": [
    "import OpenBlender\n",
    "import pandas as pd\n",
    "import numpy as np\n",
    "import json\n",
    "import os\n",
    "import matplotlib.pyplot as plt\n",
    "import seaborn as sns\n",
    "import time"
   ]
  },
  {
   "cell_type": "code",
   "execution_count": 2,
   "metadata": {},
   "outputs": [],
   "source": [
    "from sklearn.feature_extraction.text import TfidfVectorizer,CountVectorizer, TfidfTransformer\n",
    "from sklearn.model_selection import train_test_split\n",
    "from sklearn.pipeline import Pipeline\n",
    "from sklearn.svm import SVC\n",
    "from sklearn.linear_model import LogisticRegression\n",
    "from sklearn.linear_model import LinearRegression\n",
    "from sklearn.linear_model import SGDClassifier\n",
    "from sklearn.ensemble import RandomForestRegressor\n",
    "from sklearn.impute import SimpleImputer\n",
    "from sklearn.compose import ColumnTransformer \n",
    "from sklearn.metrics import accuracy_score\n",
    "from sklearn.metrics import roc_auc_score\n",
    "from sklearn import metrics"
   ]
  },
  {
   "cell_type": "code",
   "execution_count": 3,
   "metadata": {},
   "outputs": [],
   "source": [
    "import re\n",
    "import string\n",
    "from nltk.corpus import stopwords\n",
    "from nltk.tokenize import word_tokenize\n",
    "from nltk.stem.porter import PorterStemmer"
   ]
  },
  {
   "cell_type": "code",
   "execution_count": 4,
   "metadata": {},
   "outputs": [],
   "source": [
    "from functions import textTransform\n",
    "import yfinance as yf"
   ]
  },
  {
   "cell_type": "code",
   "execution_count": 5,
   "metadata": {},
   "outputs": [],
   "source": [
    "os.chdir(\"..\")"
   ]
  },
  {
   "cell_type": "code",
   "execution_count": 6,
   "metadata": {},
   "outputs": [
    {
     "data": {
      "text/plain": [
       "'/Users/yingyinxiao/Documents/Github/Stock-Market-Prediction/MSFT'"
      ]
     },
     "execution_count": 6,
     "metadata": {},
     "output_type": "execute_result"
    }
   ],
   "source": [
    "os.getcwd()"
   ]
  },
  {
   "cell_type": "code",
   "execution_count": 212,
   "metadata": {},
   "outputs": [
    {
     "data": {
      "text/html": [
       "<div>\n",
       "<style scoped>\n",
       "    .dataframe tbody tr th:only-of-type {\n",
       "        vertical-align: middle;\n",
       "    }\n",
       "\n",
       "    .dataframe tbody tr th {\n",
       "        vertical-align: top;\n",
       "    }\n",
       "\n",
       "    .dataframe thead th {\n",
       "        text-align: right;\n",
       "    }\n",
       "</style>\n",
       "<table border=\"1\" class=\"dataframe\">\n",
       "  <thead>\n",
       "    <tr style=\"text-align: right;\">\n",
       "      <th></th>\n",
       "      <th>date</th>\n",
       "      <th>volume</th>\n",
       "      <th>price</th>\n",
       "      <th>high</th>\n",
       "      <th>low</th>\n",
       "      <th>open</th>\n",
       "      <th>change</th>\n",
       "      <th>timestamp</th>\n",
       "      <th>FOXBUSINES.text_COUNT_last1days:microsoft</th>\n",
       "      <th>FOXBUSINES.text_last1days:microsoft</th>\n",
       "      <th>transformedDoc</th>\n",
       "      <th>FOXBUSINES.text_COUNT_last1days:negative</th>\n",
       "      <th>FOXBUSINES.text_last1days:negative</th>\n",
       "      <th>WALL_STREE.text_last1days:positive</th>\n",
       "      <th>WALL_STREE.text_COUNT_last1days:positive</th>\n",
       "    </tr>\n",
       "  </thead>\n",
       "  <tbody>\n",
       "    <tr>\n",
       "      <th>0</th>\n",
       "      <td>02-01-2013 16:00:00</td>\n",
       "      <td>52.91M</td>\n",
       "      <td>27.62</td>\n",
       "      <td>27.73</td>\n",
       "      <td>27.15</td>\n",
       "      <td>27.25</td>\n",
       "      <td>3.41%</td>\n",
       "      <td>1.357142e+09</td>\n",
       "      <td>0</td>\n",
       "      <td>[]</td>\n",
       "      <td>NaN</td>\n",
       "      <td>0</td>\n",
       "      <td>[]</td>\n",
       "      <td>['the latest tweets and updates about the #fis...</td>\n",
       "      <td>6</td>\n",
       "    </tr>\n",
       "    <tr>\n",
       "      <th>1</th>\n",
       "      <td>03-01-2013 16:00:00</td>\n",
       "      <td>48.30M</td>\n",
       "      <td>27.25</td>\n",
       "      <td>27.65</td>\n",
       "      <td>27.16</td>\n",
       "      <td>27.63</td>\n",
       "      <td>-1.34%</td>\n",
       "      <td>1.357229e+09</td>\n",
       "      <td>2</td>\n",
       "      <td>['stocks ease after yesterdays big rally econo...</td>\n",
       "      <td>stocks ease after yesterdays big rally economy...</td>\n",
       "      <td>4</td>\n",
       "      <td>['amazons third-party sellers scored big this ...</td>\n",
       "      <td>['breaking: new jersey gov_ christie says hous...</td>\n",
       "      <td>3</td>\n",
       "    </tr>\n",
       "    <tr>\n",
       "      <th>2</th>\n",
       "      <td>04-01-2013 16:00:00</td>\n",
       "      <td>52.52M</td>\n",
       "      <td>26.74</td>\n",
       "      <td>27.34</td>\n",
       "      <td>26.73</td>\n",
       "      <td>27.27</td>\n",
       "      <td>-1.87%</td>\n",
       "      <td>1.357315e+09</td>\n",
       "      <td>2</td>\n",
       "      <td>['stocks mildly lower as traders mull mostly i...</td>\n",
       "      <td>stocks mildly lower as traders mull mostly inl...</td>\n",
       "      <td>2</td>\n",
       "      <td>['stocks mildly lower as traders mull mostly i...</td>\n",
       "      <td>['mark zuckerberg gave 498_8 million in facebo...</td>\n",
       "      <td>10</td>\n",
       "    </tr>\n",
       "    <tr>\n",
       "      <th>3</th>\n",
       "      <td>07-01-2013 16:00:00</td>\n",
       "      <td>37.12M</td>\n",
       "      <td>26.69</td>\n",
       "      <td>26.88</td>\n",
       "      <td>26.64</td>\n",
       "      <td>26.77</td>\n",
       "      <td>-0.19%</td>\n",
       "      <td>1.357574e+09</td>\n",
       "      <td>1</td>\n",
       "      <td>['stock futures edge lower after last weeks su...</td>\n",
       "      <td>stock futures edge lower after last weeks surg...</td>\n",
       "      <td>1</td>\n",
       "      <td>['stock futures edge lower after last weeks su...</td>\n",
       "      <td>['buy a dvd or book, youve got something to pa...</td>\n",
       "      <td>5</td>\n",
       "    </tr>\n",
       "    <tr>\n",
       "      <th>4</th>\n",
       "      <td>08-01-2013 16:00:00</td>\n",
       "      <td>44.70M</td>\n",
       "      <td>26.55</td>\n",
       "      <td>26.79</td>\n",
       "      <td>26.46</td>\n",
       "      <td>26.75</td>\n",
       "      <td>-0.52%</td>\n",
       "      <td>1.357661e+09</td>\n",
       "      <td>0</td>\n",
       "      <td>[]</td>\n",
       "      <td>NaN</td>\n",
       "      <td>0</td>\n",
       "      <td>[]</td>\n",
       "      <td>['@danahaggard \"assume positive intent\" seems ...</td>\n",
       "      <td>4</td>\n",
       "    </tr>\n",
       "  </tbody>\n",
       "</table>\n",
       "</div>"
      ],
      "text/plain": [
       "                  date  volume  price   high    low   open  change  \\\n",
       "0  02-01-2013 16:00:00  52.91M  27.62  27.73  27.15  27.25   3.41%   \n",
       "1  03-01-2013 16:00:00  48.30M  27.25  27.65  27.16  27.63  -1.34%   \n",
       "2  04-01-2013 16:00:00  52.52M  26.74  27.34  26.73  27.27  -1.87%   \n",
       "3  07-01-2013 16:00:00  37.12M  26.69  26.88  26.64  26.77  -0.19%   \n",
       "4  08-01-2013 16:00:00  44.70M  26.55  26.79  26.46  26.75  -0.52%   \n",
       "\n",
       "      timestamp  FOXBUSINES.text_COUNT_last1days:microsoft  \\\n",
       "0  1.357142e+09                                          0   \n",
       "1  1.357229e+09                                          2   \n",
       "2  1.357315e+09                                          2   \n",
       "3  1.357574e+09                                          1   \n",
       "4  1.357661e+09                                          0   \n",
       "\n",
       "                 FOXBUSINES.text_last1days:microsoft  \\\n",
       "0                                                 []   \n",
       "1  ['stocks ease after yesterdays big rally econo...   \n",
       "2  ['stocks mildly lower as traders mull mostly i...   \n",
       "3  ['stock futures edge lower after last weeks su...   \n",
       "4                                                 []   \n",
       "\n",
       "                                      transformedDoc  \\\n",
       "0                                                NaN   \n",
       "1  stocks ease after yesterdays big rally economy...   \n",
       "2  stocks mildly lower as traders mull mostly inl...   \n",
       "3  stock futures edge lower after last weeks surg...   \n",
       "4                                                NaN   \n",
       "\n",
       "   FOXBUSINES.text_COUNT_last1days:negative  \\\n",
       "0                                         0   \n",
       "1                                         4   \n",
       "2                                         2   \n",
       "3                                         1   \n",
       "4                                         0   \n",
       "\n",
       "                  FOXBUSINES.text_last1days:negative  \\\n",
       "0                                                 []   \n",
       "1  ['amazons third-party sellers scored big this ...   \n",
       "2  ['stocks mildly lower as traders mull mostly i...   \n",
       "3  ['stock futures edge lower after last weeks su...   \n",
       "4                                                 []   \n",
       "\n",
       "                  WALL_STREE.text_last1days:positive  \\\n",
       "0  ['the latest tweets and updates about the #fis...   \n",
       "1  ['breaking: new jersey gov_ christie says hous...   \n",
       "2  ['mark zuckerberg gave 498_8 million in facebo...   \n",
       "3  ['buy a dvd or book, youve got something to pa...   \n",
       "4  ['@danahaggard \"assume positive intent\" seems ...   \n",
       "\n",
       "   WALL_STREE.text_COUNT_last1days:positive  \n",
       "0                                         6  \n",
       "1                                         3  \n",
       "2                                        10  \n",
       "3                                         5  \n",
       "4                                         4  "
      ]
     },
     "execution_count": 212,
     "metadata": {},
     "output_type": "execute_result"
    }
   ],
   "source": [
    "df = pd.read_csv(\"data/df_v2.csv\").drop(columns = [\"Unnamed: 0\", \"Unnamed: 0.1\"], axis = 1)\n",
    "df.head()"
   ]
  },
  {
   "cell_type": "code",
   "execution_count": null,
   "metadata": {},
   "outputs": [],
   "source": []
  },
  {
   "cell_type": "code",
   "execution_count": 214,
   "metadata": {
    "scrolled": true
   },
   "outputs": [
    {
     "data": {
      "text/plain": [
       "date                                          object\n",
       "volume                                        object\n",
       "price                                        float64\n",
       "high                                         float64\n",
       "low                                          float64\n",
       "open                                         float64\n",
       "change                                        object\n",
       "timestamp                                    float64\n",
       "FOXBUSINES.text_COUNT_last1days:microsoft      int64\n",
       "FOXBUSINES.text_last1days:microsoft           object\n",
       "transformedDoc                                object\n",
       "FOXBUSINES.text_COUNT_last1days:negative       int64\n",
       "FOXBUSINES.text_last1days:negative            object\n",
       "WALL_STREE.text_last1days:positive            object\n",
       "WALL_STREE.text_COUNT_last1days:positive       int64\n",
       "dtype: object"
      ]
     },
     "execution_count": 214,
     "metadata": {},
     "output_type": "execute_result"
    }
   ],
   "source": [
    "df.dtypes \n",
    "# change the type of \"change\" to float\n",
    "# change the type of \"date\" to timestamp\n",
    "# change the type of \"volume\" to float"
   ]
  },
  {
   "cell_type": "markdown",
   "metadata": {},
   "source": [
    "## Feature Engineering"
   ]
  },
  {
   "cell_type": "code",
   "execution_count": 215,
   "metadata": {},
   "outputs": [],
   "source": [
    "df['change'] = df['change'].apply(lambda x: eval(x[:-1]))\n",
    "df['date'] = pd.to_datetime(df['date'])"
   ]
  },
  {
   "cell_type": "code",
   "execution_count": 216,
   "metadata": {},
   "outputs": [
    {
     "name": "stdout",
     "output_type": "stream",
     "text": [
      "K\n"
     ]
    }
   ],
   "source": [
    "for i in df.volume:\n",
    "    if i[-1] != 'M':\n",
    "        print(i[-1])"
   ]
  },
  {
   "cell_type": "code",
   "execution_count": 217,
   "metadata": {},
   "outputs": [],
   "source": [
    "def changeVolumeType(v):\n",
    "    if v[-1] == 'M':\n",
    "        return eval(v[:-1])\n",
    "    if v[-1] == 'K':\n",
    "        return eval(v[:-1])*10**(-3)"
   ]
  },
  {
   "cell_type": "code",
   "execution_count": 218,
   "metadata": {},
   "outputs": [],
   "source": [
    "df['volume'] = df['volume'].apply(changeVolumeType)"
   ]
  },
  {
   "cell_type": "code",
   "execution_count": 219,
   "metadata": {
    "scrolled": true
   },
   "outputs": [
    {
     "data": {
      "text/html": [
       "<div>\n",
       "<style scoped>\n",
       "    .dataframe tbody tr th:only-of-type {\n",
       "        vertical-align: middle;\n",
       "    }\n",
       "\n",
       "    .dataframe tbody tr th {\n",
       "        vertical-align: top;\n",
       "    }\n",
       "\n",
       "    .dataframe thead th {\n",
       "        text-align: right;\n",
       "    }\n",
       "</style>\n",
       "<table border=\"1\" class=\"dataframe\">\n",
       "  <thead>\n",
       "    <tr style=\"text-align: right;\">\n",
       "      <th></th>\n",
       "      <th>date</th>\n",
       "      <th>price</th>\n",
       "      <th>high</th>\n",
       "      <th>low</th>\n",
       "      <th>open</th>\n",
       "      <th>change</th>\n",
       "      <th>timestamp</th>\n",
       "      <th>FOXBUSINES.text_COUNT_last1days:microsoft</th>\n",
       "      <th>FOXBUSINES.text_last1days:microsoft</th>\n",
       "      <th>transformedDoc</th>\n",
       "      <th>FOXBUSINES.text_COUNT_last1days:negative</th>\n",
       "      <th>FOXBUSINES.text_last1days:negative</th>\n",
       "      <th>WALL_STREE.text_last1days:positive</th>\n",
       "      <th>WALL_STREE.text_COUNT_last1days:positive</th>\n",
       "      <th>volumn(M)</th>\n",
       "    </tr>\n",
       "  </thead>\n",
       "  <tbody>\n",
       "    <tr>\n",
       "      <th>0</th>\n",
       "      <td>2013-02-01 16:00:00</td>\n",
       "      <td>27.62</td>\n",
       "      <td>27.73</td>\n",
       "      <td>27.15</td>\n",
       "      <td>27.25</td>\n",
       "      <td>3.41</td>\n",
       "      <td>1.357142e+09</td>\n",
       "      <td>0</td>\n",
       "      <td>[]</td>\n",
       "      <td>NaN</td>\n",
       "      <td>0</td>\n",
       "      <td>[]</td>\n",
       "      <td>['the latest tweets and updates about the #fis...</td>\n",
       "      <td>6</td>\n",
       "      <td>52.91</td>\n",
       "    </tr>\n",
       "    <tr>\n",
       "      <th>1</th>\n",
       "      <td>2013-03-01 16:00:00</td>\n",
       "      <td>27.25</td>\n",
       "      <td>27.65</td>\n",
       "      <td>27.16</td>\n",
       "      <td>27.63</td>\n",
       "      <td>-1.34</td>\n",
       "      <td>1.357229e+09</td>\n",
       "      <td>2</td>\n",
       "      <td>['stocks ease after yesterdays big rally econo...</td>\n",
       "      <td>stocks ease after yesterdays big rally economy...</td>\n",
       "      <td>4</td>\n",
       "      <td>['amazons third-party sellers scored big this ...</td>\n",
       "      <td>['breaking: new jersey gov_ christie says hous...</td>\n",
       "      <td>3</td>\n",
       "      <td>48.30</td>\n",
       "    </tr>\n",
       "    <tr>\n",
       "      <th>2</th>\n",
       "      <td>2013-04-01 16:00:00</td>\n",
       "      <td>26.74</td>\n",
       "      <td>27.34</td>\n",
       "      <td>26.73</td>\n",
       "      <td>27.27</td>\n",
       "      <td>-1.87</td>\n",
       "      <td>1.357315e+09</td>\n",
       "      <td>2</td>\n",
       "      <td>['stocks mildly lower as traders mull mostly i...</td>\n",
       "      <td>stocks mildly lower as traders mull mostly inl...</td>\n",
       "      <td>2</td>\n",
       "      <td>['stocks mildly lower as traders mull mostly i...</td>\n",
       "      <td>['mark zuckerberg gave 498_8 million in facebo...</td>\n",
       "      <td>10</td>\n",
       "      <td>52.52</td>\n",
       "    </tr>\n",
       "    <tr>\n",
       "      <th>3</th>\n",
       "      <td>2013-07-01 16:00:00</td>\n",
       "      <td>26.69</td>\n",
       "      <td>26.88</td>\n",
       "      <td>26.64</td>\n",
       "      <td>26.77</td>\n",
       "      <td>-0.19</td>\n",
       "      <td>1.357574e+09</td>\n",
       "      <td>1</td>\n",
       "      <td>['stock futures edge lower after last weeks su...</td>\n",
       "      <td>stock futures edge lower after last weeks surg...</td>\n",
       "      <td>1</td>\n",
       "      <td>['stock futures edge lower after last weeks su...</td>\n",
       "      <td>['buy a dvd or book, youve got something to pa...</td>\n",
       "      <td>5</td>\n",
       "      <td>37.12</td>\n",
       "    </tr>\n",
       "    <tr>\n",
       "      <th>4</th>\n",
       "      <td>2013-08-01 16:00:00</td>\n",
       "      <td>26.55</td>\n",
       "      <td>26.79</td>\n",
       "      <td>26.46</td>\n",
       "      <td>26.75</td>\n",
       "      <td>-0.52</td>\n",
       "      <td>1.357661e+09</td>\n",
       "      <td>0</td>\n",
       "      <td>[]</td>\n",
       "      <td>NaN</td>\n",
       "      <td>0</td>\n",
       "      <td>[]</td>\n",
       "      <td>['@danahaggard \"assume positive intent\" seems ...</td>\n",
       "      <td>4</td>\n",
       "      <td>44.70</td>\n",
       "    </tr>\n",
       "  </tbody>\n",
       "</table>\n",
       "</div>"
      ],
      "text/plain": [
       "                 date  price   high    low   open  change     timestamp  \\\n",
       "0 2013-02-01 16:00:00  27.62  27.73  27.15  27.25    3.41  1.357142e+09   \n",
       "1 2013-03-01 16:00:00  27.25  27.65  27.16  27.63   -1.34  1.357229e+09   \n",
       "2 2013-04-01 16:00:00  26.74  27.34  26.73  27.27   -1.87  1.357315e+09   \n",
       "3 2013-07-01 16:00:00  26.69  26.88  26.64  26.77   -0.19  1.357574e+09   \n",
       "4 2013-08-01 16:00:00  26.55  26.79  26.46  26.75   -0.52  1.357661e+09   \n",
       "\n",
       "   FOXBUSINES.text_COUNT_last1days:microsoft  \\\n",
       "0                                          0   \n",
       "1                                          2   \n",
       "2                                          2   \n",
       "3                                          1   \n",
       "4                                          0   \n",
       "\n",
       "                 FOXBUSINES.text_last1days:microsoft  \\\n",
       "0                                                 []   \n",
       "1  ['stocks ease after yesterdays big rally econo...   \n",
       "2  ['stocks mildly lower as traders mull mostly i...   \n",
       "3  ['stock futures edge lower after last weeks su...   \n",
       "4                                                 []   \n",
       "\n",
       "                                      transformedDoc  \\\n",
       "0                                                NaN   \n",
       "1  stocks ease after yesterdays big rally economy...   \n",
       "2  stocks mildly lower as traders mull mostly inl...   \n",
       "3  stock futures edge lower after last weeks surg...   \n",
       "4                                                NaN   \n",
       "\n",
       "   FOXBUSINES.text_COUNT_last1days:negative  \\\n",
       "0                                         0   \n",
       "1                                         4   \n",
       "2                                         2   \n",
       "3                                         1   \n",
       "4                                         0   \n",
       "\n",
       "                  FOXBUSINES.text_last1days:negative  \\\n",
       "0                                                 []   \n",
       "1  ['amazons third-party sellers scored big this ...   \n",
       "2  ['stocks mildly lower as traders mull mostly i...   \n",
       "3  ['stock futures edge lower after last weeks su...   \n",
       "4                                                 []   \n",
       "\n",
       "                  WALL_STREE.text_last1days:positive  \\\n",
       "0  ['the latest tweets and updates about the #fis...   \n",
       "1  ['breaking: new jersey gov_ christie says hous...   \n",
       "2  ['mark zuckerberg gave 498_8 million in facebo...   \n",
       "3  ['buy a dvd or book, youve got something to pa...   \n",
       "4  ['@danahaggard \"assume positive intent\" seems ...   \n",
       "\n",
       "   WALL_STREE.text_COUNT_last1days:positive  volumn(M)  \n",
       "0                                         6      52.91  \n",
       "1                                         3      48.30  \n",
       "2                                        10      52.52  \n",
       "3                                         5      37.12  \n",
       "4                                         4      44.70  "
      ]
     },
     "execution_count": 219,
     "metadata": {},
     "output_type": "execute_result"
    }
   ],
   "source": [
    "df['volumn(M)'] = df['volume']\n",
    "df = df.drop('volume', axis = 1)\n",
    "df.head()"
   ]
  },
  {
   "cell_type": "code",
   "execution_count": 220,
   "metadata": {},
   "outputs": [
    {
     "data": {
      "text/html": [
       "<div>\n",
       "<style scoped>\n",
       "    .dataframe tbody tr th:only-of-type {\n",
       "        vertical-align: middle;\n",
       "    }\n",
       "\n",
       "    .dataframe tbody tr th {\n",
       "        vertical-align: top;\n",
       "    }\n",
       "\n",
       "    .dataframe thead th {\n",
       "        text-align: right;\n",
       "    }\n",
       "</style>\n",
       "<table border=\"1\" class=\"dataframe\">\n",
       "  <thead>\n",
       "    <tr style=\"text-align: right;\">\n",
       "      <th></th>\n",
       "      <th>date</th>\n",
       "      <th>price</th>\n",
       "      <th>high</th>\n",
       "      <th>low</th>\n",
       "      <th>open</th>\n",
       "      <th>change</th>\n",
       "      <th>timestamp</th>\n",
       "      <th>FOXBUSINES.text_COUNT_last1days:microsoft</th>\n",
       "      <th>FOXBUSINES.text_last1days:microsoft</th>\n",
       "      <th>transformedDoc</th>\n",
       "      <th>FOXBUSINES.text_COUNT_last1days:negative</th>\n",
       "      <th>FOXBUSINES.text_last1days:negative</th>\n",
       "      <th>WALL_STREE.text_last1days:positive</th>\n",
       "      <th>WALL_STREE.text_COUNT_last1days:positive</th>\n",
       "      <th>volumn(M)</th>\n",
       "    </tr>\n",
       "  </thead>\n",
       "  <tbody>\n",
       "    <tr>\n",
       "      <th>21</th>\n",
       "      <td>2013-01-02 16:00:00</td>\n",
       "      <td>27.93</td>\n",
       "      <td>28.05</td>\n",
       "      <td>27.55</td>\n",
       "      <td>27.67</td>\n",
       "      <td>1.75</td>\n",
       "      <td>1.359734e+09</td>\n",
       "      <td>2</td>\n",
       "      <td>['stocks are rallying as traders grow more bul...</td>\n",
       "      <td>stocks are rallying as traders grow more bulli...</td>\n",
       "      <td>2</td>\n",
       "      <td>['stocks are rallying as traders grow more bul...</td>\n",
       "      <td>['free to read: hillary clinton exits secretar...</td>\n",
       "      <td>7</td>\n",
       "      <td>55.57</td>\n",
       "    </tr>\n",
       "    <tr>\n",
       "      <th>40</th>\n",
       "      <td>2013-01-03 16:00:00</td>\n",
       "      <td>27.95</td>\n",
       "      <td>27.98</td>\n",
       "      <td>27.52</td>\n",
       "      <td>27.72</td>\n",
       "      <td>0.54</td>\n",
       "      <td>1.362154e+09</td>\n",
       "      <td>1</td>\n",
       "      <td>['stocks fall as euro worries ramp up_ dow -73...</td>\n",
       "      <td>stocks fall as euro worries ramp up_ dow -73 p...</td>\n",
       "      <td>3</td>\n",
       "      <td>['j_c_ penney shares plummet 20% as its uglier...</td>\n",
       "      <td>['breaking: u_s_ consumer spending edged up 0_...</td>\n",
       "      <td>11</td>\n",
       "      <td>34.85</td>\n",
       "    </tr>\n",
       "    <tr>\n",
       "      <th>60</th>\n",
       "      <td>2013-01-04 16:00:00</td>\n",
       "      <td>28.61</td>\n",
       "      <td>28.66</td>\n",
       "      <td>28.36</td>\n",
       "      <td>28.64</td>\n",
       "      <td>0.00</td>\n",
       "      <td>1.364832e+09</td>\n",
       "      <td>1</td>\n",
       "      <td>['stocks seek direction after 1q rally as trad...</td>\n",
       "      <td>stocks seek direction after 1q rally as trader...</td>\n",
       "      <td>2</td>\n",
       "      <td>['breaking: # ism # pmi gauge drops to 51_3 in...</td>\n",
       "      <td>['breaking: the pace of expansion in the u_s_ ...</td>\n",
       "      <td>5</td>\n",
       "      <td>29.20</td>\n",
       "    </tr>\n",
       "    <tr>\n",
       "      <th>82</th>\n",
       "      <td>2013-01-05 16:00:00</td>\n",
       "      <td>32.72</td>\n",
       "      <td>33.08</td>\n",
       "      <td>32.60</td>\n",
       "      <td>32.93</td>\n",
       "      <td>-1.15</td>\n",
       "      <td>1.367424e+09</td>\n",
       "      <td>2</td>\n",
       "      <td>['stocks in the red amid weak # jobs data_ veh...</td>\n",
       "      <td>stocks in the red amid weak # jobs data_ vehic...</td>\n",
       "      <td>3</td>\n",
       "      <td>['stocks in the red amid weak # jobs data_ veh...</td>\n",
       "      <td>['engineers took 7 of the top 10 spots in a ne...</td>\n",
       "      <td>6</td>\n",
       "      <td>54.34</td>\n",
       "    </tr>\n",
       "    <tr>\n",
       "      <th>124</th>\n",
       "      <td>2013-01-07 16:00:00</td>\n",
       "      <td>34.36</td>\n",
       "      <td>34.99</td>\n",
       "      <td>34.33</td>\n",
       "      <td>34.75</td>\n",
       "      <td>-0.55</td>\n",
       "      <td>1.372694e+09</td>\n",
       "      <td>1</td>\n",
       "      <td>['stock futures kick off 3q with solid gains_ ...</td>\n",
       "      <td>stock futures kick off 3q with solid gains_ he...</td>\n",
       "      <td>1</td>\n",
       "      <td>['stock futures kick off 3q with solid gains_ ...</td>\n",
       "      <td>['@jonmquigley and doubtful he is \"living it u...</td>\n",
       "      <td>5</td>\n",
       "      <td>31.06</td>\n",
       "    </tr>\n",
       "    <tr>\n",
       "      <th>...</th>\n",
       "      <td>...</td>\n",
       "      <td>...</td>\n",
       "      <td>...</td>\n",
       "      <td>...</td>\n",
       "      <td>...</td>\n",
       "      <td>...</td>\n",
       "      <td>...</td>\n",
       "      <td>...</td>\n",
       "      <td>...</td>\n",
       "      <td>...</td>\n",
       "      <td>...</td>\n",
       "      <td>...</td>\n",
       "      <td>...</td>\n",
       "      <td>...</td>\n",
       "      <td>...</td>\n",
       "    </tr>\n",
       "    <tr>\n",
       "      <th>1723</th>\n",
       "      <td>2020-12-02 17:00:00</td>\n",
       "      <td>184.71</td>\n",
       "      <td>185.62</td>\n",
       "      <td>181.86</td>\n",
       "      <td>185.62</td>\n",
       "      <td>0.15</td>\n",
       "      <td>1.581527e+09</td>\n",
       "      <td>0</td>\n",
       "      <td>[]</td>\n",
       "      <td>NaN</td>\n",
       "      <td>0</td>\n",
       "      <td>[]</td>\n",
       "      <td>['locals, doctors say nose and throat swabs ar...</td>\n",
       "      <td>19</td>\n",
       "      <td>47.06</td>\n",
       "    </tr>\n",
       "    <tr>\n",
       "      <th>1741</th>\n",
       "      <td>2020-12-03 17:00:00</td>\n",
       "      <td>139.06</td>\n",
       "      <td>153.42</td>\n",
       "      <td>138.78</td>\n",
       "      <td>145.26</td>\n",
       "      <td>-9.48</td>\n",
       "      <td>1.584032e+09</td>\n",
       "      <td>0</td>\n",
       "      <td>[]</td>\n",
       "      <td>NaN</td>\n",
       "      <td>0</td>\n",
       "      <td>[]</td>\n",
       "      <td>['u_s_ futures and global stock markets droppe...</td>\n",
       "      <td>31</td>\n",
       "      <td>93.23</td>\n",
       "    </tr>\n",
       "    <tr>\n",
       "      <th>1783</th>\n",
       "      <td>2020-12-05 17:00:00</td>\n",
       "      <td>182.51</td>\n",
       "      <td>186.99</td>\n",
       "      <td>182.41</td>\n",
       "      <td>186.81</td>\n",
       "      <td>-2.27</td>\n",
       "      <td>1.589303e+09</td>\n",
       "      <td>0</td>\n",
       "      <td>[]</td>\n",
       "      <td>NaN</td>\n",
       "      <td>0</td>\n",
       "      <td>[]</td>\n",
       "      <td>['given the number of deaths and limited suppl...</td>\n",
       "      <td>20</td>\n",
       "      <td>32.04</td>\n",
       "    </tr>\n",
       "    <tr>\n",
       "      <th>1805</th>\n",
       "      <td>2020-12-06 17:00:00</td>\n",
       "      <td>187.74</td>\n",
       "      <td>191.71</td>\n",
       "      <td>185.20</td>\n",
       "      <td>190.62</td>\n",
       "      <td>0.79</td>\n",
       "      <td>1.591981e+09</td>\n",
       "      <td>0</td>\n",
       "      <td>[]</td>\n",
       "      <td>NaN</td>\n",
       "      <td>0</td>\n",
       "      <td>[]</td>\n",
       "      <td>['some demonstrators say they have no plans to...</td>\n",
       "      <td>18</td>\n",
       "      <td>43.37</td>\n",
       "    </tr>\n",
       "    <tr>\n",
       "      <th>1875</th>\n",
       "      <td>2020-12-10 17:00:00</td>\n",
       "      <td>221.40</td>\n",
       "      <td>223.84</td>\n",
       "      <td>216.82</td>\n",
       "      <td>218.71</td>\n",
       "      <td>2.59</td>\n",
       "      <td>1.602522e+09</td>\n",
       "      <td>0</td>\n",
       "      <td>[]</td>\n",
       "      <td>NaN</td>\n",
       "      <td>0</td>\n",
       "      <td>[]</td>\n",
       "      <td>['watch live as amy coney barrett faces the se...</td>\n",
       "      <td>1</td>\n",
       "      <td>40.46</td>\n",
       "    </tr>\n",
       "  </tbody>\n",
       "</table>\n",
       "<p>1888 rows × 15 columns</p>\n",
       "</div>"
      ],
      "text/plain": [
       "                    date   price    high     low    open  change  \\\n",
       "21   2013-01-02 16:00:00   27.93   28.05   27.55   27.67    1.75   \n",
       "40   2013-01-03 16:00:00   27.95   27.98   27.52   27.72    0.54   \n",
       "60   2013-01-04 16:00:00   28.61   28.66   28.36   28.64    0.00   \n",
       "82   2013-01-05 16:00:00   32.72   33.08   32.60   32.93   -1.15   \n",
       "124  2013-01-07 16:00:00   34.36   34.99   34.33   34.75   -0.55   \n",
       "...                  ...     ...     ...     ...     ...     ...   \n",
       "1723 2020-12-02 17:00:00  184.71  185.62  181.86  185.62    0.15   \n",
       "1741 2020-12-03 17:00:00  139.06  153.42  138.78  145.26   -9.48   \n",
       "1783 2020-12-05 17:00:00  182.51  186.99  182.41  186.81   -2.27   \n",
       "1805 2020-12-06 17:00:00  187.74  191.71  185.20  190.62    0.79   \n",
       "1875 2020-12-10 17:00:00  221.40  223.84  216.82  218.71    2.59   \n",
       "\n",
       "         timestamp  FOXBUSINES.text_COUNT_last1days:microsoft  \\\n",
       "21    1.359734e+09                                          2   \n",
       "40    1.362154e+09                                          1   \n",
       "60    1.364832e+09                                          1   \n",
       "82    1.367424e+09                                          2   \n",
       "124   1.372694e+09                                          1   \n",
       "...            ...                                        ...   \n",
       "1723  1.581527e+09                                          0   \n",
       "1741  1.584032e+09                                          0   \n",
       "1783  1.589303e+09                                          0   \n",
       "1805  1.591981e+09                                          0   \n",
       "1875  1.602522e+09                                          0   \n",
       "\n",
       "                    FOXBUSINES.text_last1days:microsoft  \\\n",
       "21    ['stocks are rallying as traders grow more bul...   \n",
       "40    ['stocks fall as euro worries ramp up_ dow -73...   \n",
       "60    ['stocks seek direction after 1q rally as trad...   \n",
       "82    ['stocks in the red amid weak # jobs data_ veh...   \n",
       "124   ['stock futures kick off 3q with solid gains_ ...   \n",
       "...                                                 ...   \n",
       "1723                                                 []   \n",
       "1741                                                 []   \n",
       "1783                                                 []   \n",
       "1805                                                 []   \n",
       "1875                                                 []   \n",
       "\n",
       "                                         transformedDoc  \\\n",
       "21    stocks are rallying as traders grow more bulli...   \n",
       "40    stocks fall as euro worries ramp up_ dow -73 p...   \n",
       "60    stocks seek direction after 1q rally as trader...   \n",
       "82    stocks in the red amid weak # jobs data_ vehic...   \n",
       "124   stock futures kick off 3q with solid gains_ he...   \n",
       "...                                                 ...   \n",
       "1723                                                NaN   \n",
       "1741                                                NaN   \n",
       "1783                                                NaN   \n",
       "1805                                                NaN   \n",
       "1875                                                NaN   \n",
       "\n",
       "      FOXBUSINES.text_COUNT_last1days:negative  \\\n",
       "21                                           2   \n",
       "40                                           3   \n",
       "60                                           2   \n",
       "82                                           3   \n",
       "124                                          1   \n",
       "...                                        ...   \n",
       "1723                                         0   \n",
       "1741                                         0   \n",
       "1783                                         0   \n",
       "1805                                         0   \n",
       "1875                                         0   \n",
       "\n",
       "                     FOXBUSINES.text_last1days:negative  \\\n",
       "21    ['stocks are rallying as traders grow more bul...   \n",
       "40    ['j_c_ penney shares plummet 20% as its uglier...   \n",
       "60    ['breaking: # ism # pmi gauge drops to 51_3 in...   \n",
       "82    ['stocks in the red amid weak # jobs data_ veh...   \n",
       "124   ['stock futures kick off 3q with solid gains_ ...   \n",
       "...                                                 ...   \n",
       "1723                                                 []   \n",
       "1741                                                 []   \n",
       "1783                                                 []   \n",
       "1805                                                 []   \n",
       "1875                                                 []   \n",
       "\n",
       "                     WALL_STREE.text_last1days:positive  \\\n",
       "21    ['free to read: hillary clinton exits secretar...   \n",
       "40    ['breaking: u_s_ consumer spending edged up 0_...   \n",
       "60    ['breaking: the pace of expansion in the u_s_ ...   \n",
       "82    ['engineers took 7 of the top 10 spots in a ne...   \n",
       "124   ['@jonmquigley and doubtful he is \"living it u...   \n",
       "...                                                 ...   \n",
       "1723  ['locals, doctors say nose and throat swabs ar...   \n",
       "1741  ['u_s_ futures and global stock markets droppe...   \n",
       "1783  ['given the number of deaths and limited suppl...   \n",
       "1805  ['some demonstrators say they have no plans to...   \n",
       "1875  ['watch live as amy coney barrett faces the se...   \n",
       "\n",
       "      WALL_STREE.text_COUNT_last1days:positive  volumn(M)  \n",
       "21                                           7      55.57  \n",
       "40                                          11      34.85  \n",
       "60                                           5      29.20  \n",
       "82                                           6      54.34  \n",
       "124                                          5      31.06  \n",
       "...                                        ...        ...  \n",
       "1723                                        19      47.06  \n",
       "1741                                        31      93.23  \n",
       "1783                                        20      32.04  \n",
       "1805                                        18      43.37  \n",
       "1875                                         1      40.46  \n",
       "\n",
       "[1888 rows x 15 columns]"
      ]
     },
     "execution_count": 220,
     "metadata": {},
     "output_type": "execute_result"
    }
   ],
   "source": [
    "df.sort_values(by = 'date')"
   ]
  },
  {
   "cell_type": "code",
   "execution_count": 97,
   "metadata": {},
   "outputs": [],
   "source": [
    "# feature engineer the text \n",
    "def textTransform(doc, max_length = 13):\n",
    "    exclude = set(string.punctuation)\n",
    "    doc = eval(doc)\n",
    "    sw = stopwords.words('english')\n",
    "    porter = PorterStemmer()\n",
    "    output = ''\n",
    "    if (len(doc) == 0):\n",
    "        return output\n",
    "    else:\n",
    "        for each in doc:\n",
    "            each = re.sub('[0-9]+','',each) # remove numbers\n",
    "            each = ''.join(ch for ch in each if ch not in exclude) # remove puntuations and extra spaces\n",
    "            output += each\n",
    "        output = [x for x in word_tokenize(output) if not len(x) > max_length]\n",
    "        output_without_sw = [word for word in output if not word in sw]\n",
    "        stemmed = [porter.stem(word) for word in output_without_sw] \n",
    "        return stemmed"
   ]
  },
  {
   "cell_type": "code",
   "execution_count": 98,
   "metadata": {},
   "outputs": [],
   "source": [
    "df['WSJ_Fox'] = df['WALL_STREE.text_last1days:positive'].apply(textTransform).apply(lambda x: \" \".join(x) ) + df['FOXBUSINES.text_last1days:microsoft'].apply(textTransform).apply(lambda x: \" \".join(x) )"
   ]
  },
  {
   "cell_type": "code",
   "execution_count": 99,
   "metadata": {},
   "outputs": [],
   "source": [
    "# locate 2016 - 2020\n",
    "df['normalizedDate'] = df.date.dt.normalize()\n",
    "df['year'] = df['date'].dt.year"
   ]
  },
  {
   "cell_type": "code",
   "execution_count": 100,
   "metadata": {
    "scrolled": true
   },
   "outputs": [
    {
     "data": {
      "text/plain": [
       "date                                                                       2016-04-01 16:00:00\n",
       "price                                                                                     54.8\n",
       "high                                                                                      54.8\n",
       "low                                                                                      53.39\n",
       "open                                                                                     54.32\n",
       "change                                                                                   -1.23\n",
       "timestamp                                                                          1.45192e+09\n",
       "FOXBUSINES.text_COUNT_last1days:microsoft                                                    2\n",
       "FOXBUSINES.text_last1days:microsoft          ['china stocks slump 7 on weak data surveys ',...\n",
       "transformedDoc                               china stocks slump 7 on weak data surveys us s...\n",
       "FOXBUSINES.text_COUNT_last1days:negative                                                     3\n",
       "FOXBUSINES.text_last1days:negative           ['china stocks slump 7 on weak data surveys ',...\n",
       "WALL_STREE.text_last1days:positive           ['protesters occupying oregon wildlife refuge ...\n",
       "WALL_STREE.text_COUNT_last1days:positive                                                     2\n",
       "volumn(M)                                                                                53.78\n",
       "WSJ_Fox                                      protest occupi oregon wildlif refug ask militi...\n",
       "normalizedDate                                                             2016-04-01 00:00:00\n",
       "year                                                                                      2016\n",
       "Name: 727, dtype: object"
      ]
     },
     "execution_count": 100,
     "metadata": {},
     "output_type": "execute_result"
    }
   ],
   "source": [
    "df[(df.year == 2016)].iloc[0]"
   ]
  },
  {
   "cell_type": "code",
   "execution_count": 101,
   "metadata": {},
   "outputs": [],
   "source": [
    "df = df[727:]"
   ]
  },
  {
   "cell_type": "code",
   "execution_count": 102,
   "metadata": {},
   "outputs": [
    {
     "data": {
      "text/html": [
       "<div>\n",
       "<style scoped>\n",
       "    .dataframe tbody tr th:only-of-type {\n",
       "        vertical-align: middle;\n",
       "    }\n",
       "\n",
       "    .dataframe tbody tr th {\n",
       "        vertical-align: top;\n",
       "    }\n",
       "\n",
       "    .dataframe thead th {\n",
       "        text-align: right;\n",
       "    }\n",
       "</style>\n",
       "<table border=\"1\" class=\"dataframe\">\n",
       "  <thead>\n",
       "    <tr style=\"text-align: right;\">\n",
       "      <th></th>\n",
       "      <th>normalizedDate</th>\n",
       "      <th>year</th>\n",
       "      <th>price</th>\n",
       "      <th>high</th>\n",
       "      <th>low</th>\n",
       "      <th>open</th>\n",
       "      <th>change</th>\n",
       "      <th>volumn(M)</th>\n",
       "      <th>WSJ_Fox</th>\n",
       "    </tr>\n",
       "  </thead>\n",
       "  <tbody>\n",
       "    <tr>\n",
       "      <th>727</th>\n",
       "      <td>2016-04-01</td>\n",
       "      <td>2016</td>\n",
       "      <td>54.80</td>\n",
       "      <td>54.80</td>\n",
       "      <td>53.39</td>\n",
       "      <td>54.32</td>\n",
       "      <td>-1.23</td>\n",
       "      <td>53.78</td>\n",
       "      <td>protest occupi oregon wildlif refug ask militi...</td>\n",
       "    </tr>\n",
       "    <tr>\n",
       "      <th>728</th>\n",
       "      <td>2016-05-01</td>\n",
       "      <td>2016</td>\n",
       "      <td>55.05</td>\n",
       "      <td>55.39</td>\n",
       "      <td>54.54</td>\n",
       "      <td>54.93</td>\n",
       "      <td>0.46</td>\n",
       "      <td>34.08</td>\n",
       "      <td>global stock start sharp selloff today top tow...</td>\n",
       "    </tr>\n",
       "    <tr>\n",
       "      <th>729</th>\n",
       "      <td>2016-06-01</td>\n",
       "      <td>2016</td>\n",
       "      <td>54.05</td>\n",
       "      <td>54.40</td>\n",
       "      <td>53.64</td>\n",
       "      <td>54.32</td>\n",
       "      <td>-1.82</td>\n",
       "      <td>39.52</td>\n",
       "      <td>gun stock surg obama crack puerto rican govern...</td>\n",
       "    </tr>\n",
       "    <tr>\n",
       "      <th>730</th>\n",
       "      <td>2016-07-01</td>\n",
       "      <td>2016</td>\n",
       "      <td>52.17</td>\n",
       "      <td>53.48</td>\n",
       "      <td>52.07</td>\n",
       "      <td>52.70</td>\n",
       "      <td>-3.48</td>\n",
       "      <td>56.56</td>\n",
       "      <td>bangladesh suprem court uphold death sentenc i...</td>\n",
       "    </tr>\n",
       "    <tr>\n",
       "      <th>731</th>\n",
       "      <td>2016-08-01</td>\n",
       "      <td>2016</td>\n",
       "      <td>52.33</td>\n",
       "      <td>53.28</td>\n",
       "      <td>52.15</td>\n",
       "      <td>52.37</td>\n",
       "      <td>0.31</td>\n",
       "      <td>48.75</td>\n",
       "      <td>despit stock market turmoil trader say investo...</td>\n",
       "    </tr>\n",
       "    <tr>\n",
       "      <th>...</th>\n",
       "      <td>...</td>\n",
       "      <td>...</td>\n",
       "      <td>...</td>\n",
       "      <td>...</td>\n",
       "      <td>...</td>\n",
       "      <td>...</td>\n",
       "      <td>...</td>\n",
       "      <td>...</td>\n",
       "      <td>...</td>\n",
       "    </tr>\n",
       "    <tr>\n",
       "      <th>1883</th>\n",
       "      <td>2020-10-23</td>\n",
       "      <td>2020</td>\n",
       "      <td>216.23</td>\n",
       "      <td>216.23</td>\n",
       "      <td>213.22</td>\n",
       "      <td>215.03</td>\n",
       "      <td>0.62</td>\n",
       "      <td>18.88</td>\n",
       "      <td>slovakia began mass coronaviru test campaign t...</td>\n",
       "    </tr>\n",
       "    <tr>\n",
       "      <th>1884</th>\n",
       "      <td>2020-10-26</td>\n",
       "      <td>2020</td>\n",
       "      <td>210.08</td>\n",
       "      <td>216.30</td>\n",
       "      <td>208.16</td>\n",
       "      <td>213.73</td>\n",
       "      <td>-2.84</td>\n",
       "      <td>37.11</td>\n",
       "      <td>presid trump could still win piec togeth requi...</td>\n",
       "    </tr>\n",
       "    <tr>\n",
       "      <th>1885</th>\n",
       "      <td>2020-10-27</td>\n",
       "      <td>2020</td>\n",
       "      <td>213.25</td>\n",
       "      <td>214.67</td>\n",
       "      <td>210.33</td>\n",
       "      <td>211.65</td>\n",
       "      <td>1.51</td>\n",
       "      <td>36.70</td>\n",
       "      <td>hed better without demeanor buchanan counti va...</td>\n",
       "    </tr>\n",
       "    <tr>\n",
       "      <th>1886</th>\n",
       "      <td>2020-10-28</td>\n",
       "      <td>2020</td>\n",
       "      <td>202.68</td>\n",
       "      <td>208.72</td>\n",
       "      <td>202.13</td>\n",
       "      <td>207.65</td>\n",
       "      <td>-4.96</td>\n",
       "      <td>51.20</td>\n",
       "      <td>visa deal buy plaid key player space face resi...</td>\n",
       "    </tr>\n",
       "    <tr>\n",
       "      <th>1887</th>\n",
       "      <td>2020-10-30</td>\n",
       "      <td>2020</td>\n",
       "      <td>202.47</td>\n",
       "      <td>204.24</td>\n",
       "      <td>199.64</td>\n",
       "      <td>203.49</td>\n",
       "      <td>-1.10</td>\n",
       "      <td>36.98</td>\n",
       "      <td>job loss may forc coupl adjust live one salari...</td>\n",
       "    </tr>\n",
       "  </tbody>\n",
       "</table>\n",
       "<p>1161 rows × 9 columns</p>\n",
       "</div>"
      ],
      "text/plain": [
       "     normalizedDate  year   price    high     low    open  change  volumn(M)  \\\n",
       "727      2016-04-01  2016   54.80   54.80   53.39   54.32   -1.23      53.78   \n",
       "728      2016-05-01  2016   55.05   55.39   54.54   54.93    0.46      34.08   \n",
       "729      2016-06-01  2016   54.05   54.40   53.64   54.32   -1.82      39.52   \n",
       "730      2016-07-01  2016   52.17   53.48   52.07   52.70   -3.48      56.56   \n",
       "731      2016-08-01  2016   52.33   53.28   52.15   52.37    0.31      48.75   \n",
       "...             ...   ...     ...     ...     ...     ...     ...        ...   \n",
       "1883     2020-10-23  2020  216.23  216.23  213.22  215.03    0.62      18.88   \n",
       "1884     2020-10-26  2020  210.08  216.30  208.16  213.73   -2.84      37.11   \n",
       "1885     2020-10-27  2020  213.25  214.67  210.33  211.65    1.51      36.70   \n",
       "1886     2020-10-28  2020  202.68  208.72  202.13  207.65   -4.96      51.20   \n",
       "1887     2020-10-30  2020  202.47  204.24  199.64  203.49   -1.10      36.98   \n",
       "\n",
       "                                                WSJ_Fox  \n",
       "727   protest occupi oregon wildlif refug ask militi...  \n",
       "728   global stock start sharp selloff today top tow...  \n",
       "729   gun stock surg obama crack puerto rican govern...  \n",
       "730   bangladesh suprem court uphold death sentenc i...  \n",
       "731   despit stock market turmoil trader say investo...  \n",
       "...                                                 ...  \n",
       "1883  slovakia began mass coronaviru test campaign t...  \n",
       "1884  presid trump could still win piec togeth requi...  \n",
       "1885  hed better without demeanor buchanan counti va...  \n",
       "1886  visa deal buy plaid key player space face resi...  \n",
       "1887  job loss may forc coupl adjust live one salari...  \n",
       "\n",
       "[1161 rows x 9 columns]"
      ]
     },
     "execution_count": 102,
     "metadata": {},
     "output_type": "execute_result"
    }
   ],
   "source": [
    "temp = df[['normalizedDate', 'year', 'price', 'high', 'low', 'open', 'change',  'volumn(M)', 'WSJ_Fox']]\n",
    "temp"
   ]
  },
  {
   "cell_type": "code",
   "execution_count": null,
   "metadata": {},
   "outputs": [],
   "source": []
  },
  {
   "cell_type": "code",
   "execution_count": 103,
   "metadata": {},
   "outputs": [],
   "source": [
    "# Add more features\n",
    "# Dividends\n",
    "msft = yf.Ticker(\"MSFT\")"
   ]
  },
  {
   "cell_type": "code",
   "execution_count": 104,
   "metadata": {},
   "outputs": [],
   "source": [
    "hist = msft.history(period=\"max\")"
   ]
  },
  {
   "cell_type": "code",
   "execution_count": 105,
   "metadata": {},
   "outputs": [
    {
     "data": {
      "text/html": [
       "<div>\n",
       "<style scoped>\n",
       "    .dataframe tbody tr th:only-of-type {\n",
       "        vertical-align: middle;\n",
       "    }\n",
       "\n",
       "    .dataframe tbody tr th {\n",
       "        vertical-align: top;\n",
       "    }\n",
       "\n",
       "    .dataframe thead th {\n",
       "        text-align: right;\n",
       "    }\n",
       "</style>\n",
       "<table border=\"1\" class=\"dataframe\">\n",
       "  <thead>\n",
       "    <tr style=\"text-align: right;\">\n",
       "      <th></th>\n",
       "      <th>Date</th>\n",
       "      <th>Dividends</th>\n",
       "    </tr>\n",
       "  </thead>\n",
       "  <tbody>\n",
       "    <tr>\n",
       "      <th>48</th>\n",
       "      <td>2016-02-16</td>\n",
       "      <td>0.36</td>\n",
       "    </tr>\n",
       "    <tr>\n",
       "      <th>49</th>\n",
       "      <td>2016-05-17</td>\n",
       "      <td>0.36</td>\n",
       "    </tr>\n",
       "    <tr>\n",
       "      <th>50</th>\n",
       "      <td>2016-08-16</td>\n",
       "      <td>0.36</td>\n",
       "    </tr>\n",
       "    <tr>\n",
       "      <th>51</th>\n",
       "      <td>2016-11-15</td>\n",
       "      <td>0.39</td>\n",
       "    </tr>\n",
       "  </tbody>\n",
       "</table>\n",
       "</div>"
      ],
      "text/plain": [
       "         Date  Dividends\n",
       "48 2016-02-16       0.36\n",
       "49 2016-05-17       0.36\n",
       "50 2016-08-16       0.36\n",
       "51 2016-11-15       0.39"
      ]
     },
     "execution_count": 105,
     "metadata": {},
     "output_type": "execute_result"
    }
   ],
   "source": [
    "dividends = msft.dividends.to_frame().reset_index()\n",
    "dividends[dividends.Date.dt.year == 2016]"
   ]
  },
  {
   "cell_type": "code",
   "execution_count": 106,
   "metadata": {},
   "outputs": [],
   "source": [
    "dividends = dividends[49:]"
   ]
  },
  {
   "cell_type": "code",
   "execution_count": 107,
   "metadata": {},
   "outputs": [],
   "source": [
    "temp = temp.merge(dividends, \\\n",
    "         left_on = 'normalizedDate', \\\n",
    "         right_on = 'Date', \\\n",
    "         how = 'left').drop('Date', axis = 1)"
   ]
  },
  {
   "cell_type": "code",
   "execution_count": 108,
   "metadata": {},
   "outputs": [],
   "source": [
    "temp.Dividends = temp.Dividends.fillna(method = 'bfill').fillna(method = 'ffill')"
   ]
  },
  {
   "cell_type": "code",
   "execution_count": 109,
   "metadata": {},
   "outputs": [],
   "source": [
    "# RSI\n",
    "def rsi(price, n):\n",
    "    delta = price.diff()\n",
    "    dUp = delta[delta>0]\n",
    "    dDown = delta[delta<0]\n",
    "    dUp, dDown = delta.copy(), delta.copy()\n",
    "    \n",
    "    dUp[dUp < 0] = 0\n",
    "    dDown[dDown > 0] = 0\n",
    "\n",
    "    RolUp = dUp.rolling(n).mean()\n",
    "    RolDown = dDown.rolling(n).mean().abs()\n",
    "\n",
    "    RS = RolUp / RolDown\n",
    "    return 100.0 - (100.0 / (1.0 + RS))"
   ]
  },
  {
   "cell_type": "code",
   "execution_count": 110,
   "metadata": {},
   "outputs": [],
   "source": [
    "temp['RSI'] = rsi(df.price, 14)"
   ]
  },
  {
   "cell_type": "code",
   "execution_count": 111,
   "metadata": {},
   "outputs": [],
   "source": [
    "temp['RSI'] = temp['RSI'].fillna(method = 'bfill')"
   ]
  },
  {
   "cell_type": "code",
   "execution_count": 112,
   "metadata": {},
   "outputs": [],
   "source": [
    "# PE Ratio, EPS\n",
    "url = 'https://www.macrotrends.net/stocks/charts/MSFT/microsoft/pe-ratio'\n",
    "from bs4 import BeautifulSoup\n",
    "import requests\n",
    "import json"
   ]
  },
  {
   "cell_type": "code",
   "execution_count": 113,
   "metadata": {},
   "outputs": [
    {
     "data": {
      "text/plain": [
       "200"
      ]
     },
     "execution_count": 113,
     "metadata": {},
     "output_type": "execute_result"
    }
   ],
   "source": [
    "page = requests.get(url)\n",
    "page.status_code"
   ]
  },
  {
   "cell_type": "code",
   "execution_count": 114,
   "metadata": {},
   "outputs": [],
   "source": [
    "soup = BeautifulSoup(page.content, 'html.parser')"
   ]
  },
  {
   "cell_type": "code",
   "execution_count": 115,
   "metadata": {},
   "outputs": [
    {
     "data": {
      "text/plain": [
       "['Date', 'Stock Price', 'TTM Net EPS', 'PE Ratio']"
      ]
     },
     "execution_count": 115,
     "metadata": {},
     "output_type": "execute_result"
    }
   ],
   "source": [
    "table = soup.find('table')\n",
    "cols = [table.find_all('th')[x].get_text() for x in [1,2,3,4]] \n",
    "cols"
   ]
  },
  {
   "cell_type": "code",
   "execution_count": 116,
   "metadata": {},
   "outputs": [],
   "source": [
    "table_data = [[cell.text for cell in table(\"td\")]\n",
    "                         for row in table(\"tr\")]"
   ]
  },
  {
   "cell_type": "code",
   "execution_count": 117,
   "metadata": {},
   "outputs": [],
   "source": [
    "counter = 0\n",
    "rows = []\n",
    "newRow = []\n",
    "for i in table_data[0]:\n",
    "    if ((counter % 4 == 0) and (len(newRow) != 0)):\n",
    "        rows.append(newRow)      \n",
    "        newRow = []\n",
    "    newRow.append(i)\n",
    "    counter+=1"
   ]
  },
  {
   "cell_type": "code",
   "execution_count": 118,
   "metadata": {},
   "outputs": [
    {
     "data": {
      "text/html": [
       "<div>\n",
       "<style scoped>\n",
       "    .dataframe tbody tr th:only-of-type {\n",
       "        vertical-align: middle;\n",
       "    }\n",
       "\n",
       "    .dataframe tbody tr th {\n",
       "        vertical-align: top;\n",
       "    }\n",
       "\n",
       "    .dataframe thead th {\n",
       "        text-align: right;\n",
       "    }\n",
       "</style>\n",
       "<table border=\"1\" class=\"dataframe\">\n",
       "  <thead>\n",
       "    <tr style=\"text-align: right;\">\n",
       "      <th></th>\n",
       "      <th>Date</th>\n",
       "      <th>Stock Price</th>\n",
       "      <th>TTM Net EPS</th>\n",
       "      <th>PE Ratio</th>\n",
       "    </tr>\n",
       "  </thead>\n",
       "  <tbody>\n",
       "    <tr>\n",
       "      <th>0</th>\n",
       "      <td>2020-12-07</td>\n",
       "      <td>214.29</td>\n",
       "      <td></td>\n",
       "      <td>34.62</td>\n",
       "    </tr>\n",
       "    <tr>\n",
       "      <th>1</th>\n",
       "      <td>2020-09-30</td>\n",
       "      <td>209.77</td>\n",
       "      <td>$6.19</td>\n",
       "      <td>33.89</td>\n",
       "    </tr>\n",
       "    <tr>\n",
       "      <th>2</th>\n",
       "      <td>2020-06-30</td>\n",
       "      <td>202.48</td>\n",
       "      <td>$5.75</td>\n",
       "      <td>35.21</td>\n",
       "    </tr>\n",
       "    <tr>\n",
       "      <th>3</th>\n",
       "      <td>2020-03-31</td>\n",
       "      <td>156.48</td>\n",
       "      <td>$6.00</td>\n",
       "      <td>26.08</td>\n",
       "    </tr>\n",
       "    <tr>\n",
       "      <th>4</th>\n",
       "      <td>2019-12-31</td>\n",
       "      <td>156.05</td>\n",
       "      <td>$5.74</td>\n",
       "      <td>27.19</td>\n",
       "    </tr>\n",
       "  </tbody>\n",
       "</table>\n",
       "</div>"
      ],
      "text/plain": [
       "         Date Stock Price TTM Net EPS PE Ratio\n",
       "0  2020-12-07      214.29                34.62\n",
       "1  2020-09-30      209.77       $6.19    33.89\n",
       "2  2020-06-30      202.48       $5.75    35.21\n",
       "3  2020-03-31      156.48       $6.00    26.08\n",
       "4  2019-12-31      156.05       $5.74    27.19"
      ]
     },
     "execution_count": 118,
     "metadata": {},
     "output_type": "execute_result"
    }
   ],
   "source": [
    "pe_table = pd.DataFrame(columns = cols, data = rows)\n",
    "pe_table.head()"
   ]
  },
  {
   "cell_type": "code",
   "execution_count": 119,
   "metadata": {},
   "outputs": [
    {
     "data": {
      "text/plain": [
       "Date           object\n",
       "Stock Price    object\n",
       "TTM Net EPS    object\n",
       "PE Ratio       object\n",
       "dtype: object"
      ]
     },
     "execution_count": 119,
     "metadata": {},
     "output_type": "execute_result"
    }
   ],
   "source": [
    "pe_table.dtypes"
   ]
  },
  {
   "cell_type": "code",
   "execution_count": 120,
   "metadata": {},
   "outputs": [],
   "source": [
    "pe_table['Date'] = pd.to_datetime(pe_table.Date)\n",
    "pe_table['Stock Price'] = [eval(x) for x in pe_table['Stock Price']]\n",
    "pe_table['TTM Net EPS'] = [eval(x[1:]) if x is not '' else x for x in pe_table['TTM Net EPS'] ]\n",
    "pe_table['PE Ratio'] = [eval(x) for x in pe_table['PE Ratio']]"
   ]
  },
  {
   "cell_type": "code",
   "execution_count": 121,
   "metadata": {},
   "outputs": [],
   "source": [
    "pe_table = pe_table.sort_values(by = 'Date', ascending = True).reset_index(drop = True)\n",
    "pe_table = pe_table[37:].reset_index(drop=True)"
   ]
  },
  {
   "cell_type": "code",
   "execution_count": 122,
   "metadata": {},
   "outputs": [
    {
     "data": {
      "text/html": [
       "<div>\n",
       "<style scoped>\n",
       "    .dataframe tbody tr th:only-of-type {\n",
       "        vertical-align: middle;\n",
       "    }\n",
       "\n",
       "    .dataframe tbody tr th {\n",
       "        vertical-align: top;\n",
       "    }\n",
       "\n",
       "    .dataframe thead th {\n",
       "        text-align: right;\n",
       "    }\n",
       "</style>\n",
       "<table border=\"1\" class=\"dataframe\">\n",
       "  <thead>\n",
       "    <tr style=\"text-align: right;\">\n",
       "      <th></th>\n",
       "      <th>Date</th>\n",
       "      <th>Stock Price</th>\n",
       "      <th>TTM Net EPS</th>\n",
       "      <th>PE Ratio</th>\n",
       "    </tr>\n",
       "  </thead>\n",
       "  <tbody>\n",
       "    <tr>\n",
       "      <th>0</th>\n",
       "      <td>2016-06-30</td>\n",
       "      <td>47.52</td>\n",
       "      <td>2.05</td>\n",
       "      <td>23.18</td>\n",
       "    </tr>\n",
       "    <tr>\n",
       "      <th>1</th>\n",
       "      <td>2016-09-30</td>\n",
       "      <td>53.83</td>\n",
       "      <td>2.08</td>\n",
       "      <td>25.88</td>\n",
       "    </tr>\n",
       "    <tr>\n",
       "      <th>2</th>\n",
       "      <td>2016-12-31</td>\n",
       "      <td>58.46</td>\n",
       "      <td>2.12</td>\n",
       "      <td>27.58</td>\n",
       "    </tr>\n",
       "    <tr>\n",
       "      <th>3</th>\n",
       "      <td>2017-03-31</td>\n",
       "      <td>62.33</td>\n",
       "      <td>2.26</td>\n",
       "      <td>27.58</td>\n",
       "    </tr>\n",
       "    <tr>\n",
       "      <th>4</th>\n",
       "      <td>2017-06-30</td>\n",
       "      <td>65.61</td>\n",
       "      <td>2.7</td>\n",
       "      <td>24.30</td>\n",
       "    </tr>\n",
       "    <tr>\n",
       "      <th>5</th>\n",
       "      <td>2017-09-30</td>\n",
       "      <td>71.28</td>\n",
       "      <td>2.94</td>\n",
       "      <td>24.24</td>\n",
       "    </tr>\n",
       "    <tr>\n",
       "      <th>6</th>\n",
       "      <td>2017-12-31</td>\n",
       "      <td>82.26</td>\n",
       "      <td>1.46</td>\n",
       "      <td>56.34</td>\n",
       "    </tr>\n",
       "    <tr>\n",
       "      <th>7</th>\n",
       "      <td>2018-03-31</td>\n",
       "      <td>88.18</td>\n",
       "      <td>1.8</td>\n",
       "      <td>48.99</td>\n",
       "    </tr>\n",
       "    <tr>\n",
       "      <th>8</th>\n",
       "      <td>2018-06-30</td>\n",
       "      <td>95.68</td>\n",
       "      <td>2.11</td>\n",
       "      <td>45.35</td>\n",
       "    </tr>\n",
       "    <tr>\n",
       "      <th>9</th>\n",
       "      <td>2018-09-30</td>\n",
       "      <td>111.41</td>\n",
       "      <td>2.41</td>\n",
       "      <td>46.23</td>\n",
       "    </tr>\n",
       "    <tr>\n",
       "      <th>10</th>\n",
       "      <td>2018-12-31</td>\n",
       "      <td>99.37</td>\n",
       "      <td>4.31</td>\n",
       "      <td>23.06</td>\n",
       "    </tr>\n",
       "    <tr>\n",
       "      <th>11</th>\n",
       "      <td>2019-03-31</td>\n",
       "      <td>115.88</td>\n",
       "      <td>4.5</td>\n",
       "      <td>25.75</td>\n",
       "    </tr>\n",
       "    <tr>\n",
       "      <th>12</th>\n",
       "      <td>2019-06-30</td>\n",
       "      <td>132.11</td>\n",
       "      <td>5.07</td>\n",
       "      <td>26.06</td>\n",
       "    </tr>\n",
       "    <tr>\n",
       "      <th>13</th>\n",
       "      <td>2019-09-30</td>\n",
       "      <td>137.10</td>\n",
       "      <td>5.31</td>\n",
       "      <td>25.82</td>\n",
       "    </tr>\n",
       "    <tr>\n",
       "      <th>14</th>\n",
       "      <td>2019-12-31</td>\n",
       "      <td>156.05</td>\n",
       "      <td>5.74</td>\n",
       "      <td>27.19</td>\n",
       "    </tr>\n",
       "    <tr>\n",
       "      <th>15</th>\n",
       "      <td>2020-03-31</td>\n",
       "      <td>156.48</td>\n",
       "      <td>6</td>\n",
       "      <td>26.08</td>\n",
       "    </tr>\n",
       "    <tr>\n",
       "      <th>16</th>\n",
       "      <td>2020-06-30</td>\n",
       "      <td>202.48</td>\n",
       "      <td>5.75</td>\n",
       "      <td>35.21</td>\n",
       "    </tr>\n",
       "    <tr>\n",
       "      <th>17</th>\n",
       "      <td>2020-09-30</td>\n",
       "      <td>209.77</td>\n",
       "      <td>6.19</td>\n",
       "      <td>33.89</td>\n",
       "    </tr>\n",
       "    <tr>\n",
       "      <th>18</th>\n",
       "      <td>2020-12-07</td>\n",
       "      <td>214.29</td>\n",
       "      <td></td>\n",
       "      <td>34.62</td>\n",
       "    </tr>\n",
       "  </tbody>\n",
       "</table>\n",
       "</div>"
      ],
      "text/plain": [
       "         Date  Stock Price TTM Net EPS  PE Ratio\n",
       "0  2016-06-30        47.52        2.05     23.18\n",
       "1  2016-09-30        53.83        2.08     25.88\n",
       "2  2016-12-31        58.46        2.12     27.58\n",
       "3  2017-03-31        62.33        2.26     27.58\n",
       "4  2017-06-30        65.61         2.7     24.30\n",
       "5  2017-09-30        71.28        2.94     24.24\n",
       "6  2017-12-31        82.26        1.46     56.34\n",
       "7  2018-03-31        88.18         1.8     48.99\n",
       "8  2018-06-30        95.68        2.11     45.35\n",
       "9  2018-09-30       111.41        2.41     46.23\n",
       "10 2018-12-31        99.37        4.31     23.06\n",
       "11 2019-03-31       115.88         4.5     25.75\n",
       "12 2019-06-30       132.11        5.07     26.06\n",
       "13 2019-09-30       137.10        5.31     25.82\n",
       "14 2019-12-31       156.05        5.74     27.19\n",
       "15 2020-03-31       156.48           6     26.08\n",
       "16 2020-06-30       202.48        5.75     35.21\n",
       "17 2020-09-30       209.77        6.19     33.89\n",
       "18 2020-12-07       214.29                 34.62"
      ]
     },
     "execution_count": 122,
     "metadata": {},
     "output_type": "execute_result"
    }
   ],
   "source": [
    "pe_table"
   ]
  },
  {
   "cell_type": "code",
   "execution_count": 123,
   "metadata": {},
   "outputs": [],
   "source": [
    "temp = temp.merge(pe_table, \\\n",
    "         left_on = 'normalizedDate', \\\n",
    "         right_on = 'Date', \\\n",
    "        how = 'left').fillna(method = 'bfill').drop(['Date', 'Stock Price'], axis = 1)"
   ]
  },
  {
   "cell_type": "code",
   "execution_count": 124,
   "metadata": {},
   "outputs": [],
   "source": [
    "temp[['TTM Net EPS', 'PE Ratio']] = temp[['TTM Net EPS', 'PE Ratio']].fillna(method = 'ffill')"
   ]
  },
  {
   "cell_type": "markdown",
   "metadata": {},
   "source": [
    "### Exponential Moving Average"
   ]
  },
  {
   "cell_type": "code",
   "execution_count": 125,
   "metadata": {},
   "outputs": [],
   "source": [
    "# short_rolling = temp['price'].rolling(window=20).mean()\n",
    "ema_short = temp['price'].ewm(span=20, adjust=False).mean()"
   ]
  },
  {
   "cell_type": "code",
   "execution_count": 126,
   "metadata": {},
   "outputs": [],
   "source": [
    "temp['ema'] = ema_short"
   ]
  },
  {
   "cell_type": "code",
   "execution_count": 127,
   "metadata": {},
   "outputs": [
    {
     "data": {
      "text/html": [
       "<div>\n",
       "<style scoped>\n",
       "    .dataframe tbody tr th:only-of-type {\n",
       "        vertical-align: middle;\n",
       "    }\n",
       "\n",
       "    .dataframe tbody tr th {\n",
       "        vertical-align: top;\n",
       "    }\n",
       "\n",
       "    .dataframe thead th {\n",
       "        text-align: right;\n",
       "    }\n",
       "</style>\n",
       "<table border=\"1\" class=\"dataframe\">\n",
       "  <thead>\n",
       "    <tr style=\"text-align: right;\">\n",
       "      <th></th>\n",
       "      <th>normalizedDate</th>\n",
       "      <th>year</th>\n",
       "      <th>price</th>\n",
       "      <th>high</th>\n",
       "      <th>low</th>\n",
       "      <th>open</th>\n",
       "      <th>change</th>\n",
       "      <th>volumn(M)</th>\n",
       "      <th>WSJ_Fox</th>\n",
       "      <th>Dividends</th>\n",
       "      <th>RSI</th>\n",
       "      <th>TTM Net EPS</th>\n",
       "      <th>PE Ratio</th>\n",
       "      <th>ema</th>\n",
       "    </tr>\n",
       "  </thead>\n",
       "  <tbody>\n",
       "    <tr>\n",
       "      <th>0</th>\n",
       "      <td>2016-04-01</td>\n",
       "      <td>2016</td>\n",
       "      <td>54.80</td>\n",
       "      <td>54.80</td>\n",
       "      <td>53.39</td>\n",
       "      <td>54.32</td>\n",
       "      <td>-1.23</td>\n",
       "      <td>53.78</td>\n",
       "      <td>protest occupi oregon wildlif refug ask militi...</td>\n",
       "      <td>0.36</td>\n",
       "      <td>37.256562</td>\n",
       "      <td>2.05</td>\n",
       "      <td>23.18</td>\n",
       "      <td>54.800000</td>\n",
       "    </tr>\n",
       "    <tr>\n",
       "      <th>1</th>\n",
       "      <td>2016-05-01</td>\n",
       "      <td>2016</td>\n",
       "      <td>55.05</td>\n",
       "      <td>55.39</td>\n",
       "      <td>54.54</td>\n",
       "      <td>54.93</td>\n",
       "      <td>0.46</td>\n",
       "      <td>34.08</td>\n",
       "      <td>global stock start sharp selloff today top tow...</td>\n",
       "      <td>0.36</td>\n",
       "      <td>37.256562</td>\n",
       "      <td>2.05</td>\n",
       "      <td>23.18</td>\n",
       "      <td>54.823810</td>\n",
       "    </tr>\n",
       "    <tr>\n",
       "      <th>2</th>\n",
       "      <td>2016-06-01</td>\n",
       "      <td>2016</td>\n",
       "      <td>54.05</td>\n",
       "      <td>54.40</td>\n",
       "      <td>53.64</td>\n",
       "      <td>54.32</td>\n",
       "      <td>-1.82</td>\n",
       "      <td>39.52</td>\n",
       "      <td>gun stock surg obama crack puerto rican govern...</td>\n",
       "      <td>0.36</td>\n",
       "      <td>37.256562</td>\n",
       "      <td>2.05</td>\n",
       "      <td>23.18</td>\n",
       "      <td>54.750113</td>\n",
       "    </tr>\n",
       "    <tr>\n",
       "      <th>3</th>\n",
       "      <td>2016-07-01</td>\n",
       "      <td>2016</td>\n",
       "      <td>52.17</td>\n",
       "      <td>53.48</td>\n",
       "      <td>52.07</td>\n",
       "      <td>52.70</td>\n",
       "      <td>-3.48</td>\n",
       "      <td>56.56</td>\n",
       "      <td>bangladesh suprem court uphold death sentenc i...</td>\n",
       "      <td>0.36</td>\n",
       "      <td>37.256562</td>\n",
       "      <td>2.05</td>\n",
       "      <td>23.18</td>\n",
       "      <td>54.504388</td>\n",
       "    </tr>\n",
       "    <tr>\n",
       "      <th>4</th>\n",
       "      <td>2016-08-01</td>\n",
       "      <td>2016</td>\n",
       "      <td>52.33</td>\n",
       "      <td>53.28</td>\n",
       "      <td>52.15</td>\n",
       "      <td>52.37</td>\n",
       "      <td>0.31</td>\n",
       "      <td>48.75</td>\n",
       "      <td>despit stock market turmoil trader say investo...</td>\n",
       "      <td>0.36</td>\n",
       "      <td>37.256562</td>\n",
       "      <td>2.05</td>\n",
       "      <td>23.18</td>\n",
       "      <td>54.297304</td>\n",
       "    </tr>\n",
       "  </tbody>\n",
       "</table>\n",
       "</div>"
      ],
      "text/plain": [
       "  normalizedDate  year  price   high    low   open  change  volumn(M)  \\\n",
       "0     2016-04-01  2016  54.80  54.80  53.39  54.32   -1.23      53.78   \n",
       "1     2016-05-01  2016  55.05  55.39  54.54  54.93    0.46      34.08   \n",
       "2     2016-06-01  2016  54.05  54.40  53.64  54.32   -1.82      39.52   \n",
       "3     2016-07-01  2016  52.17  53.48  52.07  52.70   -3.48      56.56   \n",
       "4     2016-08-01  2016  52.33  53.28  52.15  52.37    0.31      48.75   \n",
       "\n",
       "                                             WSJ_Fox  Dividends        RSI  \\\n",
       "0  protest occupi oregon wildlif refug ask militi...       0.36  37.256562   \n",
       "1  global stock start sharp selloff today top tow...       0.36  37.256562   \n",
       "2  gun stock surg obama crack puerto rican govern...       0.36  37.256562   \n",
       "3  bangladesh suprem court uphold death sentenc i...       0.36  37.256562   \n",
       "4  despit stock market turmoil trader say investo...       0.36  37.256562   \n",
       "\n",
       "   TTM Net EPS  PE Ratio        ema  \n",
       "0         2.05     23.18  54.800000  \n",
       "1         2.05     23.18  54.823810  \n",
       "2         2.05     23.18  54.750113  \n",
       "3         2.05     23.18  54.504388  \n",
       "4         2.05     23.18  54.297304  "
      ]
     },
     "execution_count": 127,
     "metadata": {},
     "output_type": "execute_result"
    }
   ],
   "source": [
    "temp.head()"
   ]
  },
  {
   "cell_type": "markdown",
   "metadata": {},
   "source": [
    "## Count vectorizer"
   ]
  },
  {
   "cell_type": "code",
   "execution_count": 154,
   "metadata": {},
   "outputs": [],
   "source": [
    "countvectorizer = CountVectorizer(analyzer= 'word', \\\n",
    "                                  stop_words='english', \\\n",
    "                                  ngram_range=(1,2))\n",
    "#                                  min_df = 0.01, \\\n",
    "#                                  max_df = 0.99) \n",
    "#ignore terms in less than 1% of the documents\n",
    "#ignore terms in more than 99% of the documents"
   ]
  },
  {
   "cell_type": "code",
   "execution_count": 155,
   "metadata": {},
   "outputs": [],
   "source": [
    "count_wm = countvectorizer.fit_transform(temp['WSJ_Fox'])\n",
    "count_tokens = countvectorizer.get_feature_names()"
   ]
  },
  {
   "cell_type": "code",
   "execution_count": 171,
   "metadata": {},
   "outputs": [],
   "source": [
    "def prep_func(wm, tokens): #the function was prep_df\n",
    "    prep_df = pd.DataFrame(wm.toarray(), columns=tokens)\n",
    "    prep_df[['price', 'high', 'low', 'open', 'change', 'volumn(M)',\\\n",
    "         'Dividends', 'RSI', 'TTM Net EPS','PE Ratio']] = temp[['price', 'high', 'low', 'open', 'change', \n",
    "                                                                'volumn(M)','Dividends', 'RSI', 'TTM Net EPS',\\\n",
    "                                                                'PE Ratio']]\n",
    "    prep_df[['price', 'high', 'low', 'open', 'change', 'volumn(M)']] = temp[['price', 'high', 'low', 'open', 'change', \n",
    "                                                            'volumn(M)']]\n",
    "    # Where ‘change’ decreased more than 0.5%\n",
    "    prep_df['negative_poc'] = [1 if log_diff < -0.005 else 0 for log_diff in temp['change']]\n",
    "    # Where ‘change’ increased more than 0.5%\n",
    "    prep_df['positive_poc'] = [1 if log_diff > 0.005 else 0 for log_diff in temp['change']]\n",
    "    \n",
    "    # We need to shift our target one day so that we predict \n",
    "    # for what will happen 'tomorrow' with news and data from 'today'\n",
    "    prep_df['target'] = prep_df['positive_poc'].shift(-1)\n",
    "\n",
    "    prep_df = prep_df[:-1] # Remove the last one with NaN\n",
    "    # Define target\n",
    "    target = 'target'\n",
    "    # Create train/test sets\n",
    "    X = prep_df.loc[:, prep_df.columns != target].values\n",
    "    y = prep_df.loc[:,[target]].values\n",
    "    div = int(round(len(X) * 0.71))\n",
    "    X_train = X[:div]\n",
    "    y_train = y[:div]\n",
    "    X_test = X[div:]\n",
    "    y_test = y[div:]\n",
    "    \n",
    "    print('Train:')\n",
    "    print(X_train.shape)\n",
    "    print(y_train.shape)\n",
    "    print('Test:')\n",
    "    print(X_test.shape)\n",
    "    print(y_test.shape)\n",
    "    return prep_df, X_train, y_train, X_test, y_test"
   ]
  },
  {
   "cell_type": "code",
   "execution_count": 159,
   "metadata": {},
   "outputs": [
    {
     "name": "stdout",
     "output_type": "stream",
     "text": [
      "Train:\n",
      "(824, 107188)\n",
      "(824, 1)\n",
      "Test:\n",
      "(336, 107188)\n",
      "(336, 1)\n"
     ]
    }
   ],
   "source": [
    "prep_df, X_train, y_train, X_test, y_test = prep_df(count_wm, count_tokens)"
   ]
  },
  {
   "cell_type": "code",
   "execution_count": 160,
   "metadata": {},
   "outputs": [
    {
     "data": {
      "text/html": [
       "<div>\n",
       "<style scoped>\n",
       "    .dataframe tbody tr th:only-of-type {\n",
       "        vertical-align: middle;\n",
       "    }\n",
       "\n",
       "    .dataframe tbody tr th {\n",
       "        vertical-align: top;\n",
       "    }\n",
       "\n",
       "    .dataframe thead th {\n",
       "        text-align: right;\n",
       "    }\n",
       "</style>\n",
       "<table border=\"1\" class=\"dataframe\">\n",
       "  <thead>\n",
       "    <tr style=\"text-align: right;\">\n",
       "      <th></th>\n",
       "      <th>aal</th>\n",
       "      <th>aal amzn</th>\n",
       "      <th>aandrioti</th>\n",
       "      <th>aandrioti report</th>\n",
       "      <th>aandrioti tip</th>\n",
       "      <th>aapl</th>\n",
       "      <th>aapl alert</th>\n",
       "      <th>aapl amzn</th>\n",
       "      <th>aapl cloud</th>\n",
       "      <th>aapl csco</th>\n",
       "      <th>...</th>\n",
       "      <th>zynga</th>\n",
       "      <th>zynga stock</th>\n",
       "      <th>change</th>\n",
       "      <th>volumn(M)</th>\n",
       "      <th>Dividends</th>\n",
       "      <th>RSI</th>\n",
       "      <th>TTM Net EPS</th>\n",
       "      <th>PE Ratio</th>\n",
       "      <th>negative_poc</th>\n",
       "      <th>positive_poc</th>\n",
       "    </tr>\n",
       "  </thead>\n",
       "  <tbody>\n",
       "    <tr>\n",
       "      <th>0</th>\n",
       "      <td>0</td>\n",
       "      <td>0</td>\n",
       "      <td>0</td>\n",
       "      <td>0</td>\n",
       "      <td>0</td>\n",
       "      <td>0</td>\n",
       "      <td>0</td>\n",
       "      <td>0</td>\n",
       "      <td>0</td>\n",
       "      <td>0</td>\n",
       "      <td>...</td>\n",
       "      <td>0</td>\n",
       "      <td>0</td>\n",
       "      <td>-1.23</td>\n",
       "      <td>53.78</td>\n",
       "      <td>0.36</td>\n",
       "      <td>37.256562</td>\n",
       "      <td>2.05</td>\n",
       "      <td>23.18</td>\n",
       "      <td>1</td>\n",
       "      <td>0</td>\n",
       "    </tr>\n",
       "    <tr>\n",
       "      <th>1</th>\n",
       "      <td>0</td>\n",
       "      <td>0</td>\n",
       "      <td>0</td>\n",
       "      <td>0</td>\n",
       "      <td>0</td>\n",
       "      <td>0</td>\n",
       "      <td>0</td>\n",
       "      <td>0</td>\n",
       "      <td>0</td>\n",
       "      <td>0</td>\n",
       "      <td>...</td>\n",
       "      <td>0</td>\n",
       "      <td>0</td>\n",
       "      <td>0.46</td>\n",
       "      <td>34.08</td>\n",
       "      <td>0.36</td>\n",
       "      <td>37.256562</td>\n",
       "      <td>2.05</td>\n",
       "      <td>23.18</td>\n",
       "      <td>0</td>\n",
       "      <td>1</td>\n",
       "    </tr>\n",
       "    <tr>\n",
       "      <th>2</th>\n",
       "      <td>0</td>\n",
       "      <td>0</td>\n",
       "      <td>0</td>\n",
       "      <td>0</td>\n",
       "      <td>0</td>\n",
       "      <td>0</td>\n",
       "      <td>0</td>\n",
       "      <td>0</td>\n",
       "      <td>0</td>\n",
       "      <td>0</td>\n",
       "      <td>...</td>\n",
       "      <td>0</td>\n",
       "      <td>0</td>\n",
       "      <td>-1.82</td>\n",
       "      <td>39.52</td>\n",
       "      <td>0.36</td>\n",
       "      <td>37.256562</td>\n",
       "      <td>2.05</td>\n",
       "      <td>23.18</td>\n",
       "      <td>1</td>\n",
       "      <td>0</td>\n",
       "    </tr>\n",
       "    <tr>\n",
       "      <th>3</th>\n",
       "      <td>0</td>\n",
       "      <td>0</td>\n",
       "      <td>0</td>\n",
       "      <td>0</td>\n",
       "      <td>0</td>\n",
       "      <td>0</td>\n",
       "      <td>0</td>\n",
       "      <td>0</td>\n",
       "      <td>0</td>\n",
       "      <td>0</td>\n",
       "      <td>...</td>\n",
       "      <td>0</td>\n",
       "      <td>0</td>\n",
       "      <td>-3.48</td>\n",
       "      <td>56.56</td>\n",
       "      <td>0.36</td>\n",
       "      <td>37.256562</td>\n",
       "      <td>2.05</td>\n",
       "      <td>23.18</td>\n",
       "      <td>1</td>\n",
       "      <td>0</td>\n",
       "    </tr>\n",
       "    <tr>\n",
       "      <th>4</th>\n",
       "      <td>0</td>\n",
       "      <td>0</td>\n",
       "      <td>0</td>\n",
       "      <td>0</td>\n",
       "      <td>0</td>\n",
       "      <td>0</td>\n",
       "      <td>0</td>\n",
       "      <td>0</td>\n",
       "      <td>0</td>\n",
       "      <td>0</td>\n",
       "      <td>...</td>\n",
       "      <td>0</td>\n",
       "      <td>0</td>\n",
       "      <td>0.31</td>\n",
       "      <td>48.75</td>\n",
       "      <td>0.36</td>\n",
       "      <td>37.256562</td>\n",
       "      <td>2.05</td>\n",
       "      <td>23.18</td>\n",
       "      <td>0</td>\n",
       "      <td>1</td>\n",
       "    </tr>\n",
       "    <tr>\n",
       "      <th>...</th>\n",
       "      <td>...</td>\n",
       "      <td>...</td>\n",
       "      <td>...</td>\n",
       "      <td>...</td>\n",
       "      <td>...</td>\n",
       "      <td>...</td>\n",
       "      <td>...</td>\n",
       "      <td>...</td>\n",
       "      <td>...</td>\n",
       "      <td>...</td>\n",
       "      <td>...</td>\n",
       "      <td>...</td>\n",
       "      <td>...</td>\n",
       "      <td>...</td>\n",
       "      <td>...</td>\n",
       "      <td>...</td>\n",
       "      <td>...</td>\n",
       "      <td>...</td>\n",
       "      <td>...</td>\n",
       "      <td>...</td>\n",
       "      <td>...</td>\n",
       "    </tr>\n",
       "    <tr>\n",
       "      <th>1155</th>\n",
       "      <td>0</td>\n",
       "      <td>0</td>\n",
       "      <td>0</td>\n",
       "      <td>0</td>\n",
       "      <td>0</td>\n",
       "      <td>0</td>\n",
       "      <td>0</td>\n",
       "      <td>0</td>\n",
       "      <td>0</td>\n",
       "      <td>0</td>\n",
       "      <td>...</td>\n",
       "      <td>0</td>\n",
       "      <td>0</td>\n",
       "      <td>0.04</td>\n",
       "      <td>22.35</td>\n",
       "      <td>0.51</td>\n",
       "      <td>49.403748</td>\n",
       "      <td>6.19</td>\n",
       "      <td>33.89</td>\n",
       "      <td>0</td>\n",
       "      <td>1</td>\n",
       "    </tr>\n",
       "    <tr>\n",
       "      <th>1156</th>\n",
       "      <td>0</td>\n",
       "      <td>0</td>\n",
       "      <td>0</td>\n",
       "      <td>0</td>\n",
       "      <td>0</td>\n",
       "      <td>0</td>\n",
       "      <td>0</td>\n",
       "      <td>0</td>\n",
       "      <td>0</td>\n",
       "      <td>0</td>\n",
       "      <td>...</td>\n",
       "      <td>0</td>\n",
       "      <td>0</td>\n",
       "      <td>0.62</td>\n",
       "      <td>18.88</td>\n",
       "      <td>0.51</td>\n",
       "      <td>41.652021</td>\n",
       "      <td>6.19</td>\n",
       "      <td>33.89</td>\n",
       "      <td>0</td>\n",
       "      <td>1</td>\n",
       "    </tr>\n",
       "    <tr>\n",
       "      <th>1157</th>\n",
       "      <td>0</td>\n",
       "      <td>0</td>\n",
       "      <td>0</td>\n",
       "      <td>0</td>\n",
       "      <td>0</td>\n",
       "      <td>0</td>\n",
       "      <td>0</td>\n",
       "      <td>0</td>\n",
       "      <td>0</td>\n",
       "      <td>0</td>\n",
       "      <td>...</td>\n",
       "      <td>0</td>\n",
       "      <td>0</td>\n",
       "      <td>-2.84</td>\n",
       "      <td>37.11</td>\n",
       "      <td>0.51</td>\n",
       "      <td>49.295775</td>\n",
       "      <td>6.19</td>\n",
       "      <td>33.89</td>\n",
       "      <td>1</td>\n",
       "      <td>0</td>\n",
       "    </tr>\n",
       "    <tr>\n",
       "      <th>1158</th>\n",
       "      <td>0</td>\n",
       "      <td>0</td>\n",
       "      <td>0</td>\n",
       "      <td>0</td>\n",
       "      <td>0</td>\n",
       "      <td>0</td>\n",
       "      <td>0</td>\n",
       "      <td>0</td>\n",
       "      <td>0</td>\n",
       "      <td>0</td>\n",
       "      <td>...</td>\n",
       "      <td>0</td>\n",
       "      <td>0</td>\n",
       "      <td>1.51</td>\n",
       "      <td>36.70</td>\n",
       "      <td>0.51</td>\n",
       "      <td>55.140187</td>\n",
       "      <td>6.19</td>\n",
       "      <td>33.89</td>\n",
       "      <td>0</td>\n",
       "      <td>1</td>\n",
       "    </tr>\n",
       "    <tr>\n",
       "      <th>1159</th>\n",
       "      <td>0</td>\n",
       "      <td>0</td>\n",
       "      <td>0</td>\n",
       "      <td>0</td>\n",
       "      <td>0</td>\n",
       "      <td>0</td>\n",
       "      <td>0</td>\n",
       "      <td>0</td>\n",
       "      <td>0</td>\n",
       "      <td>0</td>\n",
       "      <td>...</td>\n",
       "      <td>0</td>\n",
       "      <td>0</td>\n",
       "      <td>-4.96</td>\n",
       "      <td>51.20</td>\n",
       "      <td>0.51</td>\n",
       "      <td>56.666667</td>\n",
       "      <td>6.19</td>\n",
       "      <td>33.89</td>\n",
       "      <td>1</td>\n",
       "      <td>0</td>\n",
       "    </tr>\n",
       "  </tbody>\n",
       "</table>\n",
       "<p>1160 rows × 107189 columns</p>\n",
       "</div>"
      ],
      "text/plain": [
       "      aal  aal amzn  aandrioti  aandrioti report  aandrioti tip  aapl  \\\n",
       "0       0         0          0                 0              0     0   \n",
       "1       0         0          0                 0              0     0   \n",
       "2       0         0          0                 0              0     0   \n",
       "3       0         0          0                 0              0     0   \n",
       "4       0         0          0                 0              0     0   \n",
       "...   ...       ...        ...               ...            ...   ...   \n",
       "1155    0         0          0                 0              0     0   \n",
       "1156    0         0          0                 0              0     0   \n",
       "1157    0         0          0                 0              0     0   \n",
       "1158    0         0          0                 0              0     0   \n",
       "1159    0         0          0                 0              0     0   \n",
       "\n",
       "      aapl alert  aapl amzn  aapl cloud  aapl csco  ...  zynga  zynga stock  \\\n",
       "0              0          0           0          0  ...      0            0   \n",
       "1              0          0           0          0  ...      0            0   \n",
       "2              0          0           0          0  ...      0            0   \n",
       "3              0          0           0          0  ...      0            0   \n",
       "4              0          0           0          0  ...      0            0   \n",
       "...          ...        ...         ...        ...  ...    ...          ...   \n",
       "1155           0          0           0          0  ...      0            0   \n",
       "1156           0          0           0          0  ...      0            0   \n",
       "1157           0          0           0          0  ...      0            0   \n",
       "1158           0          0           0          0  ...      0            0   \n",
       "1159           0          0           0          0  ...      0            0   \n",
       "\n",
       "      change  volumn(M)  Dividends        RSI  TTM Net EPS  PE Ratio  \\\n",
       "0      -1.23      53.78       0.36  37.256562         2.05     23.18   \n",
       "1       0.46      34.08       0.36  37.256562         2.05     23.18   \n",
       "2      -1.82      39.52       0.36  37.256562         2.05     23.18   \n",
       "3      -3.48      56.56       0.36  37.256562         2.05     23.18   \n",
       "4       0.31      48.75       0.36  37.256562         2.05     23.18   \n",
       "...      ...        ...        ...        ...          ...       ...   \n",
       "1155    0.04      22.35       0.51  49.403748         6.19     33.89   \n",
       "1156    0.62      18.88       0.51  41.652021         6.19     33.89   \n",
       "1157   -2.84      37.11       0.51  49.295775         6.19     33.89   \n",
       "1158    1.51      36.70       0.51  55.140187         6.19     33.89   \n",
       "1159   -4.96      51.20       0.51  56.666667         6.19     33.89   \n",
       "\n",
       "      negative_poc  positive_poc  \n",
       "0                1             0  \n",
       "1                0             1  \n",
       "2                1             0  \n",
       "3                1             0  \n",
       "4                0             1  \n",
       "...            ...           ...  \n",
       "1155             0             1  \n",
       "1156             0             1  \n",
       "1157             1             0  \n",
       "1158             0             1  \n",
       "1159             1             0  \n",
       "\n",
       "[1160 rows x 107189 columns]"
      ]
     },
     "execution_count": 160,
     "metadata": {},
     "output_type": "execute_result"
    }
   ],
   "source": [
    "prep_df"
   ]
  },
  {
   "cell_type": "code",
   "execution_count": 162,
   "metadata": {},
   "outputs": [
    {
     "data": {
      "text/plain": [
       "high           0.030773\n",
       "low            0.031659\n",
       "open           0.032263\n",
       "change        -0.097692\n",
       "volumn(M)     -0.046261\n",
       "Dividends      0.039670\n",
       "RSI            0.041874\n",
       "TTM Net EPS    0.050363\n",
       "PE Ratio       0.033209\n",
       "target         1.000000\n",
       "Name: target, dtype: float64"
      ]
     },
     "execution_count": 162,
     "metadata": {},
     "output_type": "execute_result"
    }
   ],
   "source": [
    "cor = prep_df[['price', 'high', 'low', 'open', 'change', 'volumn(M)',\\\n",
    "         'Dividends', 'RSI', 'TTM Net EPS','PE Ratio', 'target']]\n",
    "# cor = prep_df[['price', 'high', 'low', 'open', 'change', 'volumn(M)', 'target']]\n",
    "cor[cor.columns[1:]].corr()['target'][:]"
   ]
  },
  {
   "cell_type": "markdown",
   "metadata": {},
   "source": [
    "### Random forest regressor"
   ]
  },
  {
   "cell_type": "code",
   "execution_count": 163,
   "metadata": {},
   "outputs": [],
   "source": [
    "def randomForest(X_train, y_train):\n",
    "    rf = RandomForestRegressor(n_estimators = 1000, random_state = 1)\n",
    "    rf.fit(X_train, y_train)\n",
    "    y_pred = rf.predict(X_test)\n",
    "    \n",
    "    print(\"AUC score:\")\n",
    "    print(roc_auc_score(y_test, y_pred))\n",
    "    print('---')\n",
    "    # Let's binarize and look at the confusion matrix\n",
    "    preds = [1 if val > 0.5 else 0 for val in y_pred]\n",
    "    print('Confusion Matrix:')\n",
    "    print(metrics.confusion_matrix(y_test, preds))\n",
    "    print('---')\n",
    "    # Lets look at the accuracy score\n",
    "    print('Accuracy:')\n",
    "    print(accuracy_score(y_test, preds))\n",
    "    print('---')"
   ]
  },
  {
   "cell_type": "code",
   "execution_count": 164,
   "metadata": {},
   "outputs": [
    {
     "name": "stderr",
     "output_type": "stream",
     "text": [
      "/opt/anaconda3/lib/python3.7/site-packages/ipykernel_launcher.py:3: DataConversionWarning: A column-vector y was passed when a 1d array was expected. Please change the shape of y to (n_samples,), for example using ravel().\n",
      "  This is separate from the ipykernel package so we can avoid doing imports until\n"
     ]
    },
    {
     "name": "stdout",
     "output_type": "stream",
     "text": [
      "AUC score:\n",
      "0.4837782118055556\n",
      "---\n",
      "Confusion Matrix:\n",
      "[[ 54  90]\n",
      " [ 75 117]]\n",
      "---\n",
      "Accuracy:\n",
      "0.5089285714285714\n",
      "---\n"
     ]
    }
   ],
   "source": [
    "randomForest(X_train, y_train)"
   ]
  },
  {
   "cell_type": "markdown",
   "metadata": {},
   "source": [
    "### Stochastic gradient descent"
   ]
  },
  {
   "cell_type": "code",
   "execution_count": 192,
   "metadata": {},
   "outputs": [],
   "source": [
    "def SGDC(X_train, y_train):\n",
    "    clf = SGDClassifier(max_iter=1000, tol=1e-3)\n",
    "    clf.fit(X_train, y_train)\n",
    "    y_pred = clf.predict(X_test)\n",
    "    \n",
    "    print(\"AUC score:\")\n",
    "    print(roc_auc_score(y_test, y_pred))\n",
    "    print('---')\n",
    "    # Let's binarize and look at the confusion matrix\n",
    "    preds = [1 if val > 0.5 else 0 for val in y_pred]\n",
    "    print('Confusion Matrix:')\n",
    "    print(metrics.confusion_matrix(y_test, preds))\n",
    "    print('---')\n",
    "    # Lets look at the accuracy score\n",
    "    print('Accuracy:')\n",
    "    print(accuracy_score(y_test, preds))\n",
    "    print('---')\n",
    "    return y_pred"
   ]
  },
  {
   "cell_type": "code",
   "execution_count": 166,
   "metadata": {},
   "outputs": [
    {
     "name": "stderr",
     "output_type": "stream",
     "text": [
      "/opt/anaconda3/lib/python3.7/site-packages/sklearn/utils/validation.py:760: DataConversionWarning: A column-vector y was passed when a 1d array was expected. Please change the shape of y to (n_samples, ), for example using ravel().\n",
      "  y = column_or_1d(y, warn=True)\n"
     ]
    },
    {
     "name": "stdout",
     "output_type": "stream",
     "text": [
      "AUC score:\n",
      "0.513888888888889\n",
      "---\n",
      "Confusion Matrix:\n",
      "[[  7 137]\n",
      " [  4 188]]\n",
      "---\n",
      "Accuracy:\n",
      "0.5803571428571429\n",
      "---\n"
     ]
    }
   ],
   "source": [
    "SGDC(X_train, y_train)"
   ]
  },
  {
   "cell_type": "code",
   "execution_count": 211,
   "metadata": {},
   "outputs": [
    {
     "data": {
      "text/plain": [
       "Timestamp('2016-04-01 00:00:00')"
      ]
     },
     "metadata": {},
     "output_type": "display_data"
    },
    {
     "data": {
      "text/plain": [
       "Timestamp('2016-05-01 00:00:00')"
      ]
     },
     "metadata": {},
     "output_type": "display_data"
    },
    {
     "data": {
      "text/plain": [
       "Timestamp('2016-06-01 00:00:00')"
      ]
     },
     "metadata": {},
     "output_type": "display_data"
    },
    {
     "data": {
      "text/plain": [
       "Timestamp('2016-07-01 00:00:00')"
      ]
     },
     "metadata": {},
     "output_type": "display_data"
    },
    {
     "data": {
      "text/plain": [
       "Timestamp('2016-08-01 00:00:00')"
      ]
     },
     "metadata": {},
     "output_type": "display_data"
    },
    {
     "data": {
      "text/plain": [
       "Timestamp('2016-11-01 00:00:00')"
      ]
     },
     "metadata": {},
     "output_type": "display_data"
    },
    {
     "data": {
      "text/plain": [
       "Timestamp('2016-12-01 00:00:00')"
      ]
     },
     "metadata": {},
     "output_type": "display_data"
    },
    {
     "data": {
      "text/plain": [
       "Timestamp('2016-01-13 00:00:00')"
      ]
     },
     "metadata": {},
     "output_type": "display_data"
    },
    {
     "data": {
      "text/plain": [
       "Timestamp('2016-01-14 00:00:00')"
      ]
     },
     "metadata": {},
     "output_type": "display_data"
    },
    {
     "data": {
      "text/plain": [
       "Timestamp('2016-01-15 00:00:00')"
      ]
     },
     "metadata": {},
     "output_type": "display_data"
    },
    {
     "data": {
      "text/plain": [
       "Timestamp('2016-01-19 00:00:00')"
      ]
     },
     "metadata": {},
     "output_type": "display_data"
    },
    {
     "data": {
      "text/plain": [
       "Timestamp('2016-01-20 00:00:00')"
      ]
     },
     "metadata": {},
     "output_type": "display_data"
    },
    {
     "data": {
      "text/plain": [
       "Timestamp('2016-01-21 00:00:00')"
      ]
     },
     "metadata": {},
     "output_type": "display_data"
    },
    {
     "data": {
      "text/plain": [
       "Timestamp('2016-01-22 00:00:00')"
      ]
     },
     "metadata": {},
     "output_type": "display_data"
    },
    {
     "data": {
      "text/plain": [
       "Timestamp('2016-01-25 00:00:00')"
      ]
     },
     "metadata": {},
     "output_type": "display_data"
    },
    {
     "data": {
      "text/plain": [
       "Timestamp('2016-01-26 00:00:00')"
      ]
     },
     "metadata": {},
     "output_type": "display_data"
    },
    {
     "data": {
      "text/plain": [
       "Timestamp('2016-01-27 00:00:00')"
      ]
     },
     "metadata": {},
     "output_type": "display_data"
    },
    {
     "data": {
      "text/plain": [
       "Timestamp('2016-01-28 00:00:00')"
      ]
     },
     "metadata": {},
     "output_type": "display_data"
    },
    {
     "data": {
      "text/plain": [
       "Timestamp('2016-01-29 00:00:00')"
      ]
     },
     "metadata": {},
     "output_type": "display_data"
    },
    {
     "data": {
      "text/plain": [
       "Timestamp('2016-01-02 00:00:00')"
      ]
     },
     "metadata": {},
     "output_type": "display_data"
    },
    {
     "data": {
      "text/plain": [
       "Timestamp('2016-02-02 00:00:00')"
      ]
     },
     "metadata": {},
     "output_type": "display_data"
    },
    {
     "data": {
      "text/plain": [
       "Timestamp('2016-03-02 00:00:00')"
      ]
     },
     "metadata": {},
     "output_type": "display_data"
    },
    {
     "data": {
      "text/plain": [
       "Timestamp('2016-04-02 00:00:00')"
      ]
     },
     "metadata": {},
     "output_type": "display_data"
    },
    {
     "data": {
      "text/plain": [
       "Timestamp('2016-05-02 00:00:00')"
      ]
     },
     "metadata": {},
     "output_type": "display_data"
    },
    {
     "data": {
      "text/plain": [
       "Timestamp('2016-08-02 00:00:00')"
      ]
     },
     "metadata": {},
     "output_type": "display_data"
    },
    {
     "data": {
      "text/plain": [
       "Timestamp('2016-09-02 00:00:00')"
      ]
     },
     "metadata": {},
     "output_type": "display_data"
    },
    {
     "data": {
      "text/plain": [
       "Timestamp('2016-10-02 00:00:00')"
      ]
     },
     "metadata": {},
     "output_type": "display_data"
    },
    {
     "data": {
      "text/plain": [
       "Timestamp('2016-02-18 00:00:00')"
      ]
     },
     "metadata": {},
     "output_type": "display_data"
    },
    {
     "data": {
      "text/plain": [
       "Timestamp('2016-02-19 00:00:00')"
      ]
     },
     "metadata": {},
     "output_type": "display_data"
    },
    {
     "data": {
      "text/plain": [
       "Timestamp('2016-02-22 00:00:00')"
      ]
     },
     "metadata": {},
     "output_type": "display_data"
    },
    {
     "data": {
      "text/plain": [
       "Timestamp('2016-02-23 00:00:00')"
      ]
     },
     "metadata": {},
     "output_type": "display_data"
    },
    {
     "data": {
      "text/plain": [
       "Timestamp('2016-02-24 00:00:00')"
      ]
     },
     "metadata": {},
     "output_type": "display_data"
    },
    {
     "data": {
      "text/plain": [
       "Timestamp('2016-02-25 00:00:00')"
      ]
     },
     "metadata": {},
     "output_type": "display_data"
    },
    {
     "data": {
      "text/plain": [
       "Timestamp('2016-02-26 00:00:00')"
      ]
     },
     "metadata": {},
     "output_type": "display_data"
    },
    {
     "data": {
      "text/plain": [
       "Timestamp('2016-02-27 00:00:00')"
      ]
     },
     "metadata": {},
     "output_type": "display_data"
    },
    {
     "data": {
      "text/plain": [
       "Timestamp('2016-02-29 00:00:00')"
      ]
     },
     "metadata": {},
     "output_type": "display_data"
    },
    {
     "data": {
      "text/plain": [
       "Timestamp('2016-01-03 00:00:00')"
      ]
     },
     "metadata": {},
     "output_type": "display_data"
    },
    {
     "data": {
      "text/plain": [
       "Timestamp('2016-02-03 00:00:00')"
      ]
     },
     "metadata": {},
     "output_type": "display_data"
    },
    {
     "data": {
      "text/plain": [
       "Timestamp('2016-03-03 00:00:00')"
      ]
     },
     "metadata": {},
     "output_type": "display_data"
    },
    {
     "data": {
      "text/plain": [
       "Timestamp('2016-04-03 00:00:00')"
      ]
     },
     "metadata": {},
     "output_type": "display_data"
    },
    {
     "data": {
      "text/plain": [
       "Timestamp('2016-07-03 00:00:00')"
      ]
     },
     "metadata": {},
     "output_type": "display_data"
    },
    {
     "data": {
      "text/plain": [
       "Timestamp('2016-08-03 00:00:00')"
      ]
     },
     "metadata": {},
     "output_type": "display_data"
    },
    {
     "data": {
      "text/plain": [
       "Timestamp('2016-09-03 00:00:00')"
      ]
     },
     "metadata": {},
     "output_type": "display_data"
    },
    {
     "data": {
      "text/plain": [
       "Timestamp('2016-10-03 00:00:00')"
      ]
     },
     "metadata": {},
     "output_type": "display_data"
    },
    {
     "data": {
      "text/plain": [
       "Timestamp('2016-11-03 00:00:00')"
      ]
     },
     "metadata": {},
     "output_type": "display_data"
    },
    {
     "data": {
      "text/plain": [
       "Timestamp('2016-03-14 00:00:00')"
      ]
     },
     "metadata": {},
     "output_type": "display_data"
    },
    {
     "data": {
      "text/plain": [
       "Timestamp('2016-03-15 00:00:00')"
      ]
     },
     "metadata": {},
     "output_type": "display_data"
    },
    {
     "data": {
      "text/plain": [
       "Timestamp('2016-03-16 00:00:00')"
      ]
     },
     "metadata": {},
     "output_type": "display_data"
    },
    {
     "data": {
      "text/plain": [
       "Timestamp('2016-03-17 00:00:00')"
      ]
     },
     "metadata": {},
     "output_type": "display_data"
    },
    {
     "data": {
      "text/plain": [
       "Timestamp('2016-03-18 00:00:00')"
      ]
     },
     "metadata": {},
     "output_type": "display_data"
    },
    {
     "data": {
      "text/plain": [
       "Timestamp('2016-03-21 00:00:00')"
      ]
     },
     "metadata": {},
     "output_type": "display_data"
    },
    {
     "data": {
      "text/plain": [
       "Timestamp('2016-03-22 00:00:00')"
      ]
     },
     "metadata": {},
     "output_type": "display_data"
    },
    {
     "data": {
      "text/plain": [
       "Timestamp('2016-03-23 00:00:00')"
      ]
     },
     "metadata": {},
     "output_type": "display_data"
    },
    {
     "data": {
      "text/plain": [
       "Timestamp('2016-03-24 00:00:00')"
      ]
     },
     "metadata": {},
     "output_type": "display_data"
    },
    {
     "data": {
      "text/plain": [
       "Timestamp('2016-03-28 00:00:00')"
      ]
     },
     "metadata": {},
     "output_type": "display_data"
    },
    {
     "data": {
      "text/plain": [
       "Timestamp('2016-03-29 00:00:00')"
      ]
     },
     "metadata": {},
     "output_type": "display_data"
    },
    {
     "data": {
      "text/plain": [
       "Timestamp('2016-03-30 00:00:00')"
      ]
     },
     "metadata": {},
     "output_type": "display_data"
    },
    {
     "data": {
      "text/plain": [
       "Timestamp('2016-03-31 00:00:00')"
      ]
     },
     "metadata": {},
     "output_type": "display_data"
    },
    {
     "data": {
      "text/plain": [
       "Timestamp('2016-01-04 00:00:00')"
      ]
     },
     "metadata": {},
     "output_type": "display_data"
    },
    {
     "data": {
      "text/plain": [
       "Timestamp('2016-04-04 00:00:00')"
      ]
     },
     "metadata": {},
     "output_type": "display_data"
    },
    {
     "data": {
      "text/plain": [
       "Timestamp('2016-05-04 00:00:00')"
      ]
     },
     "metadata": {},
     "output_type": "display_data"
    },
    {
     "data": {
      "text/plain": [
       "Timestamp('2016-06-04 00:00:00')"
      ]
     },
     "metadata": {},
     "output_type": "display_data"
    },
    {
     "data": {
      "text/plain": [
       "Timestamp('2016-07-04 00:00:00')"
      ]
     },
     "metadata": {},
     "output_type": "display_data"
    },
    {
     "data": {
      "text/plain": [
       "Timestamp('2016-08-04 00:00:00')"
      ]
     },
     "metadata": {},
     "output_type": "display_data"
    },
    {
     "data": {
      "text/plain": [
       "Timestamp('2016-11-04 00:00:00')"
      ]
     },
     "metadata": {},
     "output_type": "display_data"
    },
    {
     "data": {
      "text/plain": [
       "Timestamp('2016-12-04 00:00:00')"
      ]
     },
     "metadata": {},
     "output_type": "display_data"
    },
    {
     "data": {
      "text/plain": [
       "Timestamp('2016-04-13 00:00:00')"
      ]
     },
     "metadata": {},
     "output_type": "display_data"
    },
    {
     "data": {
      "text/plain": [
       "Timestamp('2016-04-14 00:00:00')"
      ]
     },
     "metadata": {},
     "output_type": "display_data"
    },
    {
     "data": {
      "text/plain": [
       "Timestamp('2016-04-15 00:00:00')"
      ]
     },
     "metadata": {},
     "output_type": "display_data"
    },
    {
     "data": {
      "text/plain": [
       "Timestamp('2016-04-18 00:00:00')"
      ]
     },
     "metadata": {},
     "output_type": "display_data"
    },
    {
     "data": {
      "text/plain": [
       "Timestamp('2016-04-19 00:00:00')"
      ]
     },
     "metadata": {},
     "output_type": "display_data"
    },
    {
     "data": {
      "text/plain": [
       "Timestamp('2016-04-20 00:00:00')"
      ]
     },
     "metadata": {},
     "output_type": "display_data"
    },
    {
     "data": {
      "text/plain": [
       "Timestamp('2016-04-21 00:00:00')"
      ]
     },
     "metadata": {},
     "output_type": "display_data"
    },
    {
     "data": {
      "text/plain": [
       "Timestamp('2016-04-22 00:00:00')"
      ]
     },
     "metadata": {},
     "output_type": "display_data"
    },
    {
     "data": {
      "text/plain": [
       "Timestamp('2016-04-25 00:00:00')"
      ]
     },
     "metadata": {},
     "output_type": "display_data"
    },
    {
     "data": {
      "text/plain": [
       "Timestamp('2016-04-26 00:00:00')"
      ]
     },
     "metadata": {},
     "output_type": "display_data"
    },
    {
     "data": {
      "text/plain": [
       "Timestamp('2016-04-27 00:00:00')"
      ]
     },
     "metadata": {},
     "output_type": "display_data"
    },
    {
     "data": {
      "text/plain": [
       "Timestamp('2016-04-28 00:00:00')"
      ]
     },
     "metadata": {},
     "output_type": "display_data"
    },
    {
     "data": {
      "text/plain": [
       "Timestamp('2016-04-29 00:00:00')"
      ]
     },
     "metadata": {},
     "output_type": "display_data"
    },
    {
     "data": {
      "text/plain": [
       "Timestamp('2016-02-05 00:00:00')"
      ]
     },
     "metadata": {},
     "output_type": "display_data"
    },
    {
     "data": {
      "text/plain": [
       "Timestamp('2016-03-05 00:00:00')"
      ]
     },
     "metadata": {},
     "output_type": "display_data"
    },
    {
     "data": {
      "text/plain": [
       "Timestamp('2016-04-05 00:00:00')"
      ]
     },
     "metadata": {},
     "output_type": "display_data"
    },
    {
     "data": {
      "text/plain": [
       "Timestamp('2016-05-05 00:00:00')"
      ]
     },
     "metadata": {},
     "output_type": "display_data"
    },
    {
     "data": {
      "text/plain": [
       "Timestamp('2016-06-05 00:00:00')"
      ]
     },
     "metadata": {},
     "output_type": "display_data"
    },
    {
     "data": {
      "text/plain": [
       "Timestamp('2016-09-05 00:00:00')"
      ]
     },
     "metadata": {},
     "output_type": "display_data"
    },
    {
     "data": {
      "text/plain": [
       "Timestamp('2016-10-05 00:00:00')"
      ]
     },
     "metadata": {},
     "output_type": "display_data"
    },
    {
     "data": {
      "text/plain": [
       "Timestamp('2016-11-05 00:00:00')"
      ]
     },
     "metadata": {},
     "output_type": "display_data"
    },
    {
     "data": {
      "text/plain": [
       "Timestamp('2016-12-05 00:00:00')"
      ]
     },
     "metadata": {},
     "output_type": "display_data"
    },
    {
     "data": {
      "text/plain": [
       "Timestamp('2016-05-13 00:00:00')"
      ]
     },
     "metadata": {},
     "output_type": "display_data"
    },
    {
     "data": {
      "text/plain": [
       "Timestamp('2016-05-16 00:00:00')"
      ]
     },
     "metadata": {},
     "output_type": "display_data"
    },
    {
     "data": {
      "text/plain": [
       "Timestamp('2016-05-17 00:00:00')"
      ]
     },
     "metadata": {},
     "output_type": "display_data"
    },
    {
     "data": {
      "text/plain": [
       "Timestamp('2016-05-18 00:00:00')"
      ]
     },
     "metadata": {},
     "output_type": "display_data"
    },
    {
     "data": {
      "text/plain": [
       "Timestamp('2016-05-19 00:00:00')"
      ]
     },
     "metadata": {},
     "output_type": "display_data"
    },
    {
     "data": {
      "text/plain": [
       "Timestamp('2016-05-20 00:00:00')"
      ]
     },
     "metadata": {},
     "output_type": "display_data"
    },
    {
     "data": {
      "text/plain": [
       "Timestamp('2016-05-23 00:00:00')"
      ]
     },
     "metadata": {},
     "output_type": "display_data"
    },
    {
     "data": {
      "text/plain": [
       "Timestamp('2016-05-24 00:00:00')"
      ]
     },
     "metadata": {},
     "output_type": "display_data"
    },
    {
     "data": {
      "text/plain": [
       "Timestamp('2016-05-25 00:00:00')"
      ]
     },
     "metadata": {},
     "output_type": "display_data"
    },
    {
     "data": {
      "text/plain": [
       "Timestamp('2016-05-26 00:00:00')"
      ]
     },
     "metadata": {},
     "output_type": "display_data"
    },
    {
     "data": {
      "text/plain": [
       "Timestamp('2016-05-27 00:00:00')"
      ]
     },
     "metadata": {},
     "output_type": "display_data"
    },
    {
     "data": {
      "text/plain": [
       "Timestamp('2016-05-31 00:00:00')"
      ]
     },
     "metadata": {},
     "output_type": "display_data"
    },
    {
     "data": {
      "text/plain": [
       "Timestamp('2016-01-06 00:00:00')"
      ]
     },
     "metadata": {},
     "output_type": "display_data"
    },
    {
     "data": {
      "text/plain": [
       "Timestamp('2016-02-06 00:00:00')"
      ]
     },
     "metadata": {},
     "output_type": "display_data"
    },
    {
     "data": {
      "text/plain": [
       "Timestamp('2016-03-06 00:00:00')"
      ]
     },
     "metadata": {},
     "output_type": "display_data"
    },
    {
     "data": {
      "text/plain": [
       "Timestamp('2016-06-06 00:00:00')"
      ]
     },
     "metadata": {},
     "output_type": "display_data"
    },
    {
     "data": {
      "text/plain": [
       "Timestamp('2016-07-06 00:00:00')"
      ]
     },
     "metadata": {},
     "output_type": "display_data"
    },
    {
     "data": {
      "text/plain": [
       "Timestamp('2016-08-06 00:00:00')"
      ]
     },
     "metadata": {},
     "output_type": "display_data"
    },
    {
     "data": {
      "text/plain": [
       "Timestamp('2016-09-06 00:00:00')"
      ]
     },
     "metadata": {},
     "output_type": "display_data"
    },
    {
     "data": {
      "text/plain": [
       "Timestamp('2016-10-06 00:00:00')"
      ]
     },
     "metadata": {},
     "output_type": "display_data"
    },
    {
     "data": {
      "text/plain": [
       "Timestamp('2016-06-13 00:00:00')"
      ]
     },
     "metadata": {},
     "output_type": "display_data"
    },
    {
     "data": {
      "text/plain": [
       "Timestamp('2016-06-14 00:00:00')"
      ]
     },
     "metadata": {},
     "output_type": "display_data"
    },
    {
     "data": {
      "text/plain": [
       "Timestamp('2016-06-15 00:00:00')"
      ]
     },
     "metadata": {},
     "output_type": "display_data"
    },
    {
     "data": {
      "text/plain": [
       "Timestamp('2016-06-16 00:00:00')"
      ]
     },
     "metadata": {},
     "output_type": "display_data"
    },
    {
     "data": {
      "text/plain": [
       "Timestamp('2016-06-17 00:00:00')"
      ]
     },
     "metadata": {},
     "output_type": "display_data"
    },
    {
     "data": {
      "text/plain": [
       "Timestamp('2016-06-20 00:00:00')"
      ]
     },
     "metadata": {},
     "output_type": "display_data"
    },
    {
     "data": {
      "text/plain": [
       "Timestamp('2016-06-21 00:00:00')"
      ]
     },
     "metadata": {},
     "output_type": "display_data"
    },
    {
     "data": {
      "text/plain": [
       "Timestamp('2016-06-22 00:00:00')"
      ]
     },
     "metadata": {},
     "output_type": "display_data"
    },
    {
     "data": {
      "text/plain": [
       "Timestamp('2016-06-23 00:00:00')"
      ]
     },
     "metadata": {},
     "output_type": "display_data"
    },
    {
     "data": {
      "text/plain": [
       "Timestamp('2016-06-24 00:00:00')"
      ]
     },
     "metadata": {},
     "output_type": "display_data"
    },
    {
     "data": {
      "text/plain": [
       "Timestamp('2016-06-27 00:00:00')"
      ]
     },
     "metadata": {},
     "output_type": "display_data"
    },
    {
     "data": {
      "text/plain": [
       "Timestamp('2016-06-28 00:00:00')"
      ]
     },
     "metadata": {},
     "output_type": "display_data"
    },
    {
     "data": {
      "text/plain": [
       "Timestamp('2016-06-29 00:00:00')"
      ]
     },
     "metadata": {},
     "output_type": "display_data"
    },
    {
     "data": {
      "text/plain": [
       "Timestamp('2016-06-30 00:00:00')"
      ]
     },
     "metadata": {},
     "output_type": "display_data"
    },
    {
     "data": {
      "text/plain": [
       "Timestamp('2016-01-07 00:00:00')"
      ]
     },
     "metadata": {},
     "output_type": "display_data"
    },
    {
     "data": {
      "text/plain": [
       "Timestamp('2016-05-07 00:00:00')"
      ]
     },
     "metadata": {},
     "output_type": "display_data"
    },
    {
     "data": {
      "text/plain": [
       "Timestamp('2016-06-07 00:00:00')"
      ]
     },
     "metadata": {},
     "output_type": "display_data"
    },
    {
     "data": {
      "text/plain": [
       "Timestamp('2016-07-07 00:00:00')"
      ]
     },
     "metadata": {},
     "output_type": "display_data"
    },
    {
     "data": {
      "text/plain": [
       "Timestamp('2016-08-07 00:00:00')"
      ]
     },
     "metadata": {},
     "output_type": "display_data"
    },
    {
     "data": {
      "text/plain": [
       "Timestamp('2016-11-07 00:00:00')"
      ]
     },
     "metadata": {},
     "output_type": "display_data"
    },
    {
     "data": {
      "text/plain": [
       "Timestamp('2016-12-07 00:00:00')"
      ]
     },
     "metadata": {},
     "output_type": "display_data"
    },
    {
     "data": {
      "text/plain": [
       "Timestamp('2016-07-13 00:00:00')"
      ]
     },
     "metadata": {},
     "output_type": "display_data"
    },
    {
     "data": {
      "text/plain": [
       "Timestamp('2016-07-14 00:00:00')"
      ]
     },
     "metadata": {},
     "output_type": "display_data"
    },
    {
     "data": {
      "text/plain": [
       "Timestamp('2016-07-15 00:00:00')"
      ]
     },
     "metadata": {},
     "output_type": "display_data"
    },
    {
     "data": {
      "text/plain": [
       "Timestamp('2016-07-18 00:00:00')"
      ]
     },
     "metadata": {},
     "output_type": "display_data"
    },
    {
     "data": {
      "text/plain": [
       "Timestamp('2016-07-19 00:00:00')"
      ]
     },
     "metadata": {},
     "output_type": "display_data"
    },
    {
     "data": {
      "text/plain": [
       "Timestamp('2016-07-20 00:00:00')"
      ]
     },
     "metadata": {},
     "output_type": "display_data"
    },
    {
     "data": {
      "text/plain": [
       "Timestamp('2016-07-21 00:00:00')"
      ]
     },
     "metadata": {},
     "output_type": "display_data"
    },
    {
     "data": {
      "text/plain": [
       "Timestamp('2016-07-22 00:00:00')"
      ]
     },
     "metadata": {},
     "output_type": "display_data"
    },
    {
     "data": {
      "text/plain": [
       "Timestamp('2016-07-25 00:00:00')"
      ]
     },
     "metadata": {},
     "output_type": "display_data"
    },
    {
     "data": {
      "text/plain": [
       "Timestamp('2016-07-26 00:00:00')"
      ]
     },
     "metadata": {},
     "output_type": "display_data"
    },
    {
     "data": {
      "text/plain": [
       "Timestamp('2016-07-27 00:00:00')"
      ]
     },
     "metadata": {},
     "output_type": "display_data"
    },
    {
     "data": {
      "text/plain": [
       "Timestamp('2016-07-28 00:00:00')"
      ]
     },
     "metadata": {},
     "output_type": "display_data"
    },
    {
     "data": {
      "text/plain": [
       "Timestamp('2016-07-29 00:00:00')"
      ]
     },
     "metadata": {},
     "output_type": "display_data"
    },
    {
     "data": {
      "text/plain": [
       "Timestamp('2016-01-08 00:00:00')"
      ]
     },
     "metadata": {},
     "output_type": "display_data"
    },
    {
     "data": {
      "text/plain": [
       "Timestamp('2016-02-08 00:00:00')"
      ]
     },
     "metadata": {},
     "output_type": "display_data"
    },
    {
     "data": {
      "text/plain": [
       "Timestamp('2016-03-08 00:00:00')"
      ]
     },
     "metadata": {},
     "output_type": "display_data"
    },
    {
     "data": {
      "text/plain": [
       "Timestamp('2016-04-08 00:00:00')"
      ]
     },
     "metadata": {},
     "output_type": "display_data"
    },
    {
     "data": {
      "text/plain": [
       "Timestamp('2016-05-08 00:00:00')"
      ]
     },
     "metadata": {},
     "output_type": "display_data"
    },
    {
     "data": {
      "text/plain": [
       "Timestamp('2016-08-08 00:00:00')"
      ]
     },
     "metadata": {},
     "output_type": "display_data"
    },
    {
     "data": {
      "text/plain": [
       "Timestamp('2016-09-08 00:00:00')"
      ]
     },
     "metadata": {},
     "output_type": "display_data"
    },
    {
     "data": {
      "text/plain": [
       "Timestamp('2016-10-08 00:00:00')"
      ]
     },
     "metadata": {},
     "output_type": "display_data"
    },
    {
     "data": {
      "text/plain": [
       "Timestamp('2016-11-08 00:00:00')"
      ]
     },
     "metadata": {},
     "output_type": "display_data"
    },
    {
     "data": {
      "text/plain": [
       "Timestamp('2016-12-08 00:00:00')"
      ]
     },
     "metadata": {},
     "output_type": "display_data"
    },
    {
     "data": {
      "text/plain": [
       "Timestamp('2016-08-15 00:00:00')"
      ]
     },
     "metadata": {},
     "output_type": "display_data"
    },
    {
     "data": {
      "text/plain": [
       "Timestamp('2016-08-16 00:00:00')"
      ]
     },
     "metadata": {},
     "output_type": "display_data"
    },
    {
     "data": {
      "text/plain": [
       "Timestamp('2016-08-17 00:00:00')"
      ]
     },
     "metadata": {},
     "output_type": "display_data"
    },
    {
     "data": {
      "text/plain": [
       "Timestamp('2016-08-18 00:00:00')"
      ]
     },
     "metadata": {},
     "output_type": "display_data"
    },
    {
     "data": {
      "text/plain": [
       "Timestamp('2016-08-19 00:00:00')"
      ]
     },
     "metadata": {},
     "output_type": "display_data"
    },
    {
     "data": {
      "text/plain": [
       "Timestamp('2016-08-22 00:00:00')"
      ]
     },
     "metadata": {},
     "output_type": "display_data"
    },
    {
     "data": {
      "text/plain": [
       "Timestamp('2016-08-23 00:00:00')"
      ]
     },
     "metadata": {},
     "output_type": "display_data"
    },
    {
     "data": {
      "text/plain": [
       "Timestamp('2016-08-24 00:00:00')"
      ]
     },
     "metadata": {},
     "output_type": "display_data"
    },
    {
     "data": {
      "text/plain": [
       "Timestamp('2016-08-25 00:00:00')"
      ]
     },
     "metadata": {},
     "output_type": "display_data"
    },
    {
     "data": {
      "text/plain": [
       "Timestamp('2016-08-26 00:00:00')"
      ]
     },
     "metadata": {},
     "output_type": "display_data"
    },
    {
     "data": {
      "text/plain": [
       "Timestamp('2016-08-29 00:00:00')"
      ]
     },
     "metadata": {},
     "output_type": "display_data"
    },
    {
     "data": {
      "text/plain": [
       "Timestamp('2016-08-30 00:00:00')"
      ]
     },
     "metadata": {},
     "output_type": "display_data"
    },
    {
     "data": {
      "text/plain": [
       "Timestamp('2016-08-31 00:00:00')"
      ]
     },
     "metadata": {},
     "output_type": "display_data"
    },
    {
     "data": {
      "text/plain": [
       "Timestamp('2016-01-09 00:00:00')"
      ]
     },
     "metadata": {},
     "output_type": "display_data"
    },
    {
     "data": {
      "text/plain": [
       "Timestamp('2016-02-09 00:00:00')"
      ]
     },
     "metadata": {},
     "output_type": "display_data"
    },
    {
     "data": {
      "text/plain": [
       "Timestamp('2016-06-09 00:00:00')"
      ]
     },
     "metadata": {},
     "output_type": "display_data"
    },
    {
     "data": {
      "text/plain": [
       "Timestamp('2016-07-09 00:00:00')"
      ]
     },
     "metadata": {},
     "output_type": "display_data"
    },
    {
     "data": {
      "text/plain": [
       "Timestamp('2016-08-09 00:00:00')"
      ]
     },
     "metadata": {},
     "output_type": "display_data"
    },
    {
     "data": {
      "text/plain": [
       "Timestamp('2016-09-09 00:00:00')"
      ]
     },
     "metadata": {},
     "output_type": "display_data"
    },
    {
     "data": {
      "text/plain": [
       "Timestamp('2016-12-09 00:00:00')"
      ]
     },
     "metadata": {},
     "output_type": "display_data"
    },
    {
     "data": {
      "text/plain": [
       "Timestamp('2016-09-13 00:00:00')"
      ]
     },
     "metadata": {},
     "output_type": "display_data"
    },
    {
     "data": {
      "text/plain": [
       "Timestamp('2016-09-14 00:00:00')"
      ]
     },
     "metadata": {},
     "output_type": "display_data"
    },
    {
     "data": {
      "text/plain": [
       "Timestamp('2016-09-15 00:00:00')"
      ]
     },
     "metadata": {},
     "output_type": "display_data"
    },
    {
     "data": {
      "text/plain": [
       "Timestamp('2016-09-16 00:00:00')"
      ]
     },
     "metadata": {},
     "output_type": "display_data"
    },
    {
     "data": {
      "text/plain": [
       "Timestamp('2016-09-19 00:00:00')"
      ]
     },
     "metadata": {},
     "output_type": "display_data"
    },
    {
     "data": {
      "text/plain": [
       "Timestamp('2016-09-20 00:00:00')"
      ]
     },
     "metadata": {},
     "output_type": "display_data"
    },
    {
     "data": {
      "text/plain": [
       "Timestamp('2016-09-21 00:00:00')"
      ]
     },
     "metadata": {},
     "output_type": "display_data"
    },
    {
     "data": {
      "text/plain": [
       "Timestamp('2016-09-22 00:00:00')"
      ]
     },
     "metadata": {},
     "output_type": "display_data"
    },
    {
     "data": {
      "text/plain": [
       "Timestamp('2016-09-23 00:00:00')"
      ]
     },
     "metadata": {},
     "output_type": "display_data"
    },
    {
     "data": {
      "text/plain": [
       "Timestamp('2016-09-26 00:00:00')"
      ]
     },
     "metadata": {},
     "output_type": "display_data"
    },
    {
     "data": {
      "text/plain": [
       "Timestamp('2016-09-27 00:00:00')"
      ]
     },
     "metadata": {},
     "output_type": "display_data"
    },
    {
     "data": {
      "text/plain": [
       "Timestamp('2016-09-28 00:00:00')"
      ]
     },
     "metadata": {},
     "output_type": "display_data"
    },
    {
     "data": {
      "text/plain": [
       "Timestamp('2016-09-29 00:00:00')"
      ]
     },
     "metadata": {},
     "output_type": "display_data"
    },
    {
     "data": {
      "text/plain": [
       "Timestamp('2016-09-30 00:00:00')"
      ]
     },
     "metadata": {},
     "output_type": "display_data"
    },
    {
     "data": {
      "text/plain": [
       "Timestamp('2016-03-10 00:00:00')"
      ]
     },
     "metadata": {},
     "output_type": "display_data"
    },
    {
     "data": {
      "text/plain": [
       "Timestamp('2016-04-10 00:00:00')"
      ]
     },
     "metadata": {},
     "output_type": "display_data"
    },
    {
     "data": {
      "text/plain": [
       "Timestamp('2016-05-10 00:00:00')"
      ]
     },
     "metadata": {},
     "output_type": "display_data"
    },
    {
     "data": {
      "text/plain": [
       "Timestamp('2016-06-10 00:00:00')"
      ]
     },
     "metadata": {},
     "output_type": "display_data"
    },
    {
     "data": {
      "text/plain": [
       "Timestamp('2016-07-10 00:00:00')"
      ]
     },
     "metadata": {},
     "output_type": "display_data"
    },
    {
     "data": {
      "text/plain": [
       "Timestamp('2016-10-10 00:00:00')"
      ]
     },
     "metadata": {},
     "output_type": "display_data"
    },
    {
     "data": {
      "text/plain": [
       "Timestamp('2016-11-10 00:00:00')"
      ]
     },
     "metadata": {},
     "output_type": "display_data"
    },
    {
     "data": {
      "text/plain": [
       "Timestamp('2016-12-10 00:00:00')"
      ]
     },
     "metadata": {},
     "output_type": "display_data"
    },
    {
     "data": {
      "text/plain": [
       "Timestamp('2016-10-13 00:00:00')"
      ]
     },
     "metadata": {},
     "output_type": "display_data"
    },
    {
     "data": {
      "text/plain": [
       "Timestamp('2016-10-14 00:00:00')"
      ]
     },
     "metadata": {},
     "output_type": "display_data"
    },
    {
     "data": {
      "text/plain": [
       "Timestamp('2016-10-17 00:00:00')"
      ]
     },
     "metadata": {},
     "output_type": "display_data"
    },
    {
     "data": {
      "text/plain": [
       "Timestamp('2016-10-18 00:00:00')"
      ]
     },
     "metadata": {},
     "output_type": "display_data"
    },
    {
     "data": {
      "text/plain": [
       "Timestamp('2016-10-19 00:00:00')"
      ]
     },
     "metadata": {},
     "output_type": "display_data"
    },
    {
     "data": {
      "text/plain": [
       "Timestamp('2016-10-20 00:00:00')"
      ]
     },
     "metadata": {},
     "output_type": "display_data"
    },
    {
     "data": {
      "text/plain": [
       "Timestamp('2016-10-21 00:00:00')"
      ]
     },
     "metadata": {},
     "output_type": "display_data"
    },
    {
     "data": {
      "text/plain": [
       "Timestamp('2016-10-24 00:00:00')"
      ]
     },
     "metadata": {},
     "output_type": "display_data"
    },
    {
     "data": {
      "text/plain": [
       "Timestamp('2016-10-25 00:00:00')"
      ]
     },
     "metadata": {},
     "output_type": "display_data"
    },
    {
     "data": {
      "text/plain": [
       "Timestamp('2016-10-26 00:00:00')"
      ]
     },
     "metadata": {},
     "output_type": "display_data"
    },
    {
     "data": {
      "text/plain": [
       "Timestamp('2016-10-27 00:00:00')"
      ]
     },
     "metadata": {},
     "output_type": "display_data"
    },
    {
     "data": {
      "text/plain": [
       "Timestamp('2016-10-28 00:00:00')"
      ]
     },
     "metadata": {},
     "output_type": "display_data"
    },
    {
     "data": {
      "text/plain": [
       "Timestamp('2016-10-31 00:00:00')"
      ]
     },
     "metadata": {},
     "output_type": "display_data"
    },
    {
     "data": {
      "text/plain": [
       "Timestamp('2016-01-11 00:00:00')"
      ]
     },
     "metadata": {},
     "output_type": "display_data"
    },
    {
     "data": {
      "text/plain": [
       "Timestamp('2016-02-11 00:00:00')"
      ]
     },
     "metadata": {},
     "output_type": "display_data"
    },
    {
     "data": {
      "text/plain": [
       "Timestamp('2016-03-11 00:00:00')"
      ]
     },
     "metadata": {},
     "output_type": "display_data"
    },
    {
     "data": {
      "text/plain": [
       "Timestamp('2016-10-11 00:00:00')"
      ]
     },
     "metadata": {},
     "output_type": "display_data"
    },
    {
     "data": {
      "text/plain": [
       "Timestamp('2016-11-11 00:00:00')"
      ]
     },
     "metadata": {},
     "output_type": "display_data"
    },
    {
     "data": {
      "text/plain": [
       "Timestamp('2016-11-14 00:00:00')"
      ]
     },
     "metadata": {},
     "output_type": "display_data"
    },
    {
     "data": {
      "text/plain": [
       "Timestamp('2016-11-15 00:00:00')"
      ]
     },
     "metadata": {},
     "output_type": "display_data"
    },
    {
     "data": {
      "text/plain": [
       "Timestamp('2016-11-16 00:00:00')"
      ]
     },
     "metadata": {},
     "output_type": "display_data"
    },
    {
     "data": {
      "text/plain": [
       "Timestamp('2016-11-17 00:00:00')"
      ]
     },
     "metadata": {},
     "output_type": "display_data"
    },
    {
     "data": {
      "text/plain": [
       "Timestamp('2016-11-18 00:00:00')"
      ]
     },
     "metadata": {},
     "output_type": "display_data"
    },
    {
     "data": {
      "text/plain": [
       "Timestamp('2016-11-21 00:00:00')"
      ]
     },
     "metadata": {},
     "output_type": "display_data"
    },
    {
     "data": {
      "text/plain": [
       "Timestamp('2016-11-22 00:00:00')"
      ]
     },
     "metadata": {},
     "output_type": "display_data"
    },
    {
     "data": {
      "text/plain": [
       "Timestamp('2016-11-23 00:00:00')"
      ]
     },
     "metadata": {},
     "output_type": "display_data"
    },
    {
     "data": {
      "text/plain": [
       "Timestamp('2016-11-25 00:00:00')"
      ]
     },
     "metadata": {},
     "output_type": "display_data"
    },
    {
     "data": {
      "text/plain": [
       "Timestamp('2016-11-28 00:00:00')"
      ]
     },
     "metadata": {},
     "output_type": "display_data"
    },
    {
     "data": {
      "text/plain": [
       "Timestamp('2016-11-29 00:00:00')"
      ]
     },
     "metadata": {},
     "output_type": "display_data"
    },
    {
     "data": {
      "text/plain": [
       "Timestamp('2016-11-30 00:00:00')"
      ]
     },
     "metadata": {},
     "output_type": "display_data"
    },
    {
     "data": {
      "text/plain": [
       "Timestamp('2016-01-12 00:00:00')"
      ]
     },
     "metadata": {},
     "output_type": "display_data"
    },
    {
     "data": {
      "text/plain": [
       "Timestamp('2016-02-12 00:00:00')"
      ]
     },
     "metadata": {},
     "output_type": "display_data"
    },
    {
     "data": {
      "text/plain": [
       "Timestamp('2016-05-12 00:00:00')"
      ]
     },
     "metadata": {},
     "output_type": "display_data"
    },
    {
     "data": {
      "text/plain": [
       "Timestamp('2016-06-12 00:00:00')"
      ]
     },
     "metadata": {},
     "output_type": "display_data"
    },
    {
     "data": {
      "text/plain": [
       "Timestamp('2016-07-12 00:00:00')"
      ]
     },
     "metadata": {},
     "output_type": "display_data"
    },
    {
     "data": {
      "text/plain": [
       "Timestamp('2016-08-12 00:00:00')"
      ]
     },
     "metadata": {},
     "output_type": "display_data"
    },
    {
     "data": {
      "text/plain": [
       "Timestamp('2016-09-12 00:00:00')"
      ]
     },
     "metadata": {},
     "output_type": "display_data"
    },
    {
     "data": {
      "text/plain": [
       "Timestamp('2016-12-12 00:00:00')"
      ]
     },
     "metadata": {},
     "output_type": "display_data"
    },
    {
     "data": {
      "text/plain": [
       "Timestamp('2016-12-13 00:00:00')"
      ]
     },
     "metadata": {},
     "output_type": "display_data"
    },
    {
     "data": {
      "text/plain": [
       "Timestamp('2016-12-14 00:00:00')"
      ]
     },
     "metadata": {},
     "output_type": "display_data"
    },
    {
     "data": {
      "text/plain": [
       "Timestamp('2016-12-15 00:00:00')"
      ]
     },
     "metadata": {},
     "output_type": "display_data"
    },
    {
     "data": {
      "text/plain": [
       "Timestamp('2016-12-16 00:00:00')"
      ]
     },
     "metadata": {},
     "output_type": "display_data"
    },
    {
     "data": {
      "text/plain": [
       "Timestamp('2016-12-19 00:00:00')"
      ]
     },
     "metadata": {},
     "output_type": "display_data"
    },
    {
     "data": {
      "text/plain": [
       "Timestamp('2016-12-20 00:00:00')"
      ]
     },
     "metadata": {},
     "output_type": "display_data"
    },
    {
     "data": {
      "text/plain": [
       "Timestamp('2016-12-21 00:00:00')"
      ]
     },
     "metadata": {},
     "output_type": "display_data"
    },
    {
     "data": {
      "text/plain": [
       "Timestamp('2016-12-22 00:00:00')"
      ]
     },
     "metadata": {},
     "output_type": "display_data"
    },
    {
     "data": {
      "text/plain": [
       "Timestamp('2016-12-23 00:00:00')"
      ]
     },
     "metadata": {},
     "output_type": "display_data"
    },
    {
     "data": {
      "text/plain": [
       "Timestamp('2016-12-27 00:00:00')"
      ]
     },
     "metadata": {},
     "output_type": "display_data"
    },
    {
     "data": {
      "text/plain": [
       "Timestamp('2016-12-28 00:00:00')"
      ]
     },
     "metadata": {},
     "output_type": "display_data"
    },
    {
     "data": {
      "text/plain": [
       "Timestamp('2016-12-29 00:00:00')"
      ]
     },
     "metadata": {},
     "output_type": "display_data"
    },
    {
     "data": {
      "text/plain": [
       "Timestamp('2016-12-30 00:00:00')"
      ]
     },
     "metadata": {},
     "output_type": "display_data"
    }
   ],
   "source": [
    "x = temp[temp.year == 2016]\n",
    "for i in range(x.shape[0]):\n",
    "    display(x.iloc[i].normalizedDate)"
   ]
  },
  {
   "cell_type": "code",
   "execution_count": null,
   "metadata": {},
   "outputs": [],
   "source": [
    "#ignore terms"
   ]
  },
  {
   "cell_type": "code",
   "execution_count": 179,
   "metadata": {},
   "outputs": [],
   "source": [
    "countvectorizer = CountVectorizer(analyzer= 'word', \\\n",
    "                                  stop_words='english', \\\n",
    "                                  ngram_range=(1,2), \\\n",
    "                                 min_df = 0.01, \\\n",
    "                                 max_df = 0.99) \n",
    "#ignore terms in less than 1% of the documents\n",
    "#ignore terms in more than 99% of the documents"
   ]
  },
  {
   "cell_type": "code",
   "execution_count": 180,
   "metadata": {},
   "outputs": [],
   "source": [
    "count_wm = countvectorizer.fit_transform(temp['WSJ_Fox'])\n",
    "count_tokens = countvectorizer.get_feature_names()"
   ]
  },
  {
   "cell_type": "code",
   "execution_count": 182,
   "metadata": {},
   "outputs": [
    {
     "name": "stdout",
     "output_type": "stream",
     "text": [
      "Train:\n",
      "(824, 1896)\n",
      "(824, 1)\n",
      "Test:\n",
      "(336, 1896)\n",
      "(336, 1)\n"
     ]
    }
   ],
   "source": [
    "prep_df, X_train, y_train, X_test, y_test = prep_func(count_wm, count_tokens)"
   ]
  },
  {
   "cell_type": "code",
   "execution_count": 183,
   "metadata": {},
   "outputs": [
    {
     "name": "stderr",
     "output_type": "stream",
     "text": [
      "/opt/anaconda3/lib/python3.7/site-packages/ipykernel_launcher.py:3: DataConversionWarning: A column-vector y was passed when a 1d array was expected. Please change the shape of y to (n_samples,), for example using ravel().\n",
      "  This is separate from the ipykernel package so we can avoid doing imports until\n"
     ]
    },
    {
     "name": "stdout",
     "output_type": "stream",
     "text": [
      "AUC score:\n",
      "0.4701425057870371\n",
      "---\n",
      "Confusion Matrix:\n",
      "[[ 61  83]\n",
      " [ 92 100]]\n",
      "---\n",
      "Accuracy:\n",
      "0.4791666666666667\n",
      "---\n",
      "CPU times: user 1min 31s, sys: 881 ms, total: 1min 32s\n",
      "Wall time: 1min 36s\n"
     ]
    }
   ],
   "source": [
    "%%time \n",
    "randomForest(X_train, y_train)"
   ]
  },
  {
   "cell_type": "code",
   "execution_count": 184,
   "metadata": {},
   "outputs": [
    {
     "name": "stdout",
     "output_type": "stream",
     "text": [
      "AUC score:\n",
      "0.5\n",
      "---\n",
      "Confusion Matrix:\n",
      "[[  0 144]\n",
      " [  0 192]]\n",
      "---\n",
      "Accuracy:\n",
      "0.5714285714285714\n",
      "---\n"
     ]
    },
    {
     "name": "stderr",
     "output_type": "stream",
     "text": [
      "/opt/anaconda3/lib/python3.7/site-packages/sklearn/utils/validation.py:760: DataConversionWarning: A column-vector y was passed when a 1d array was expected. Please change the shape of y to (n_samples, ), for example using ravel().\n",
      "  y = column_or_1d(y, warn=True)\n"
     ]
    }
   ],
   "source": [
    "SGDC(X_train,y_train)"
   ]
  },
  {
   "cell_type": "markdown",
   "metadata": {},
   "source": [
    "## TF-IDF vectorizer"
   ]
  },
  {
   "cell_type": "code",
   "execution_count": 167,
   "metadata": {},
   "outputs": [],
   "source": [
    "tfidfvectorizer = TfidfVectorizer(analyzer='word', \\\n",
    "                                  stop_words= 'english', \\\n",
    "                                  ngram_range=(1, 2))\n",
    "tfidf_wm = tfidfvectorizer.fit_transform(temp['WSJ_Fox'])\n",
    "tfidf_tokens = tfidfvectorizer.get_feature_names()"
   ]
  },
  {
   "cell_type": "code",
   "execution_count": 172,
   "metadata": {},
   "outputs": [
    {
     "name": "stdout",
     "output_type": "stream",
     "text": [
      "Train:\n",
      "(824, 107188)\n",
      "(824, 1)\n",
      "Test:\n",
      "(336, 107188)\n",
      "(336, 1)\n"
     ]
    }
   ],
   "source": [
    "prep_df, X_train, y_train, X_test, y_test = prep_func(tfidf_wm, tfidf_tokens)"
   ]
  },
  {
   "cell_type": "markdown",
   "metadata": {},
   "source": [
    "### RandomForestRegressor"
   ]
  },
  {
   "cell_type": "code",
   "execution_count": 173,
   "metadata": {},
   "outputs": [
    {
     "name": "stderr",
     "output_type": "stream",
     "text": [
      "/opt/anaconda3/lib/python3.7/site-packages/ipykernel_launcher.py:3: DataConversionWarning: A column-vector y was passed when a 1d array was expected. Please change the shape of y to (n_samples,), for example using ravel().\n",
      "  This is separate from the ipykernel package so we can avoid doing imports until\n"
     ]
    },
    {
     "name": "stdout",
     "output_type": "stream",
     "text": [
      "AUC score:\n",
      "0.5158962673611112\n",
      "---\n",
      "Confusion Matrix:\n",
      "[[ 36 108]\n",
      " [ 43 149]]\n",
      "---\n",
      "Accuracy:\n",
      "0.5505952380952381\n",
      "---\n",
      "CPU times: user 25min 35s, sys: 7.27 s, total: 25min 42s\n",
      "Wall time: 26min 19s\n"
     ]
    }
   ],
   "source": [
    "%%time\n",
    "randomForest(X_train, y_train)"
   ]
  },
  {
   "cell_type": "markdown",
   "metadata": {},
   "source": [
    "### SGDClassifier"
   ]
  },
  {
   "cell_type": "code",
   "execution_count": 177,
   "metadata": {},
   "outputs": [
    {
     "name": "stderr",
     "output_type": "stream",
     "text": [
      "/opt/anaconda3/lib/python3.7/site-packages/sklearn/utils/validation.py:760: DataConversionWarning: A column-vector y was passed when a 1d array was expected. Please change the shape of y to (n_samples, ), for example using ravel().\n",
      "  y = column_or_1d(y, warn=True)\n"
     ]
    },
    {
     "name": "stdout",
     "output_type": "stream",
     "text": [
      "AUC score:\n",
      "0.5086805555555556\n",
      "---\n",
      "Confusion Matrix:\n",
      "[[  4 140]\n",
      " [  2 190]]\n",
      "---\n",
      "Accuracy:\n",
      "0.5773809523809523\n",
      "---\n"
     ]
    }
   ],
   "source": [
    "SGDC(X_train, y_train)"
   ]
  },
  {
   "cell_type": "code",
   "execution_count": null,
   "metadata": {},
   "outputs": [],
   "source": []
  },
  {
   "cell_type": "code",
   "execution_count": null,
   "metadata": {},
   "outputs": [],
   "source": []
  },
  {
   "cell_type": "code",
   "execution_count": 195,
   "metadata": {},
   "outputs": [],
   "source": [
    "tfidfvectorizer = TfidfVectorizer(analyzer='word', \\\n",
    "                                  stop_words= 'english', \\\n",
    "                                  ngram_range=(1, 1))\n",
    "tfidf_wm = tfidfvectorizer.fit_transform(temp['WSJ_Fox'])\n",
    "tfidf_tokens = tfidfvectorizer.get_feature_names()"
   ]
  },
  {
   "cell_type": "code",
   "execution_count": 196,
   "metadata": {},
   "outputs": [
    {
     "name": "stdout",
     "output_type": "stream",
     "text": [
      "Train:\n",
      "(824, 16774)\n",
      "(824, 1)\n",
      "Test:\n",
      "(336, 16774)\n",
      "(336, 1)\n"
     ]
    }
   ],
   "source": [
    "prep_df, X_train, y_train, X_test, y_test = prep_func(tfidf_wm, tfidf_tokens)"
   ]
  },
  {
   "cell_type": "code",
   "execution_count": 197,
   "metadata": {},
   "outputs": [
    {
     "name": "stderr",
     "output_type": "stream",
     "text": [
      "/opt/anaconda3/lib/python3.7/site-packages/sklearn/utils/validation.py:760: DataConversionWarning: A column-vector y was passed when a 1d array was expected. Please change the shape of y to (n_samples, ), for example using ravel().\n",
      "  y = column_or_1d(y, warn=True)\n"
     ]
    },
    {
     "name": "stdout",
     "output_type": "stream",
     "text": [
      "AUC score:\n",
      "0.5095486111111112\n",
      "---\n",
      "Confusion Matrix:\n",
      "[[143   1]\n",
      " [187   5]]\n",
      "---\n",
      "Accuracy:\n",
      "0.44047619047619047\n",
      "---\n"
     ]
    },
    {
     "data": {
      "text/plain": [
       "array([0., 0., 0., 0., 0., 0., 0., 0., 0., 0., 0., 0., 0., 0., 0., 0., 0.,\n",
       "       0., 0., 0., 0., 0., 0., 0., 0., 0., 0., 0., 0., 0., 0., 0., 0., 0.,\n",
       "       0., 1., 0., 0., 0., 1., 1., 0., 0., 0., 0., 0., 0., 0., 0., 0., 1.,\n",
       "       0., 0., 1., 0., 0., 0., 0., 0., 0., 0., 0., 0., 0., 0., 0., 0., 0.,\n",
       "       0., 0., 0., 0., 0., 0., 0., 0., 0., 0., 0., 0., 0., 0., 0., 0., 0.,\n",
       "       0., 0., 0., 0., 0., 0., 0., 0., 0., 0., 0., 0., 0., 0., 0., 0., 0.,\n",
       "       0., 0., 0., 0., 0., 0., 0., 0., 0., 0., 0., 0., 0., 0., 0., 0., 0.,\n",
       "       0., 0., 0., 0., 0., 0., 0., 0., 0., 0., 0., 0., 0., 0., 0., 0., 0.,\n",
       "       0., 0., 0., 0., 0., 0., 0., 0., 0., 0., 0., 0., 0., 0., 0., 0., 0.,\n",
       "       0., 0., 0., 0., 0., 0., 0., 0., 0., 0., 0., 0., 0., 0., 0., 0., 0.,\n",
       "       0., 0., 0., 0., 0., 0., 0., 0., 0., 0., 0., 0., 0., 0., 0., 0., 0.,\n",
       "       0., 0., 0., 0., 1., 0., 0., 0., 0., 0., 0., 0., 0., 0., 0., 0., 0.,\n",
       "       0., 0., 0., 0., 0., 0., 0., 0., 0., 0., 0., 0., 0., 0., 0., 0., 0.,\n",
       "       0., 0., 0., 0., 0., 0., 0., 0., 0., 0., 0., 0., 0., 0., 0., 0., 0.,\n",
       "       0., 0., 0., 0., 0., 0., 0., 0., 0., 0., 0., 0., 0., 0., 0., 0., 0.,\n",
       "       0., 0., 0., 0., 0., 0., 0., 0., 0., 0., 0., 0., 0., 0., 0., 0., 0.,\n",
       "       0., 0., 0., 0., 0., 0., 0., 0., 0., 0., 0., 0., 0., 0., 0., 0., 0.,\n",
       "       0., 0., 0., 0., 0., 0., 0., 0., 0., 0., 0., 0., 0., 0., 0., 0., 0.,\n",
       "       0., 0., 0., 0., 0., 0., 0., 0., 0., 0., 0., 0., 0., 0., 0., 0., 0.,\n",
       "       0., 0., 0., 0., 0., 0., 0., 0., 0., 0., 0., 0., 0.])"
      ]
     },
     "execution_count": 197,
     "metadata": {},
     "output_type": "execute_result"
    }
   ],
   "source": [
    "SGDC(X_train, y_train)"
   ]
  },
  {
   "cell_type": "code",
   "execution_count": 206,
   "metadata": {},
   "outputs": [
    {
     "data": {
      "text/plain": [
       "(1161, 14)"
      ]
     },
     "execution_count": 206,
     "metadata": {},
     "output_type": "execute_result"
    }
   ],
   "source": [
    "temp.shape"
   ]
  },
  {
   "cell_type": "code",
   "execution_count": 205,
   "metadata": {},
   "outputs": [
    {
     "data": {
      "text/plain": [
       "1440"
      ]
     },
     "execution_count": 205,
     "metadata": {},
     "output_type": "execute_result"
    }
   ],
   "source": [
    "360*4"
   ]
  },
  {
   "cell_type": "code",
   "execution_count": null,
   "metadata": {},
   "outputs": [],
   "source": []
  }
 ],
 "metadata": {
  "kernelspec": {
   "display_name": "Python 3",
   "language": "python",
   "name": "python3"
  },
  "language_info": {
   "codemirror_mode": {
    "name": "ipython",
    "version": 3
   },
   "file_extension": ".py",
   "mimetype": "text/x-python",
   "name": "python",
   "nbconvert_exporter": "python",
   "pygments_lexer": "ipython3",
   "version": "3.7.6"
  }
 },
 "nbformat": 4,
 "nbformat_minor": 4
}
